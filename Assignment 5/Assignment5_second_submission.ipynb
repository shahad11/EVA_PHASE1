{
  "nbformat": 4,
  "nbformat_minor": 0,
  "metadata": {
    "colab": {
      "name": "Assignment5.ipynb",
      "version": "0.3.2",
      "provenance": [],
      "collapsed_sections": []
    },
    "kernelspec": {
      "name": "python3",
      "display_name": "Python 3"
    },
    "accelerator": "GPU"
  },
  "cells": [
    {
      "cell_type": "markdown",
      "metadata": {
        "id": "aNyZv-Ec52ot",
        "colab_type": "text"
      },
      "source": [
        "# **Import Libraries and modules**"
      ]
    },
    {
      "cell_type": "markdown",
      "metadata": {
        "id": "L-pKsfOYAyF8",
        "colab_type": "text"
      },
      "source": [
        "#### Installing keras library using pip"
      ]
    },
    {
      "cell_type": "code",
      "metadata": {
        "id": "3m3w1Cw49Zkt",
        "colab_type": "code",
        "colab": {}
      },
      "source": [
        "# https://keras.io/\n",
        "!pip install -q keras\n",
        "import keras"
      ],
      "execution_count": 0,
      "outputs": []
    },
    {
      "cell_type": "markdown",
      "metadata": {
        "id": "zOWINHDqBXB7",
        "colab_type": "text"
      },
      "source": [
        "#### Importing libraries needed for convolutions and mnist dataset"
      ]
    },
    {
      "cell_type": "code",
      "metadata": {
        "id": "Eso6UHE080D4",
        "colab_type": "code",
        "colab": {}
      },
      "source": [
        "import numpy as np\n",
        "\n",
        "from keras.models import Sequential\n",
        "from keras.layers import Dense, Dropout, Activation, Flatten, Add\n",
        "from keras.layers import Convolution2D, MaxPooling2D\n",
        "from keras.utils import np_utils\n",
        "from keras.regularizers import l2\n",
        "from keras.datasets import mnist"
      ],
      "execution_count": 0,
      "outputs": []
    },
    {
      "cell_type": "markdown",
      "metadata": {
        "id": "zByEi95J86RD",
        "colab_type": "text"
      },
      "source": [
        "### Load pre-shuffled MNIST data into train and test sets"
      ]
    },
    {
      "cell_type": "code",
      "metadata": {
        "id": "7eRM0QWN83PV",
        "colab_type": "code",
        "colab": {}
      },
      "source": [
        "(X_train, y_train), (X_test, y_test) = mnist.load_data()"
      ],
      "execution_count": 0,
      "outputs": []
    },
    {
      "cell_type": "markdown",
      "metadata": {
        "id": "ejwvzfGqBoLz",
        "colab_type": "text"
      },
      "source": [
        "#### Plotting the Image "
      ]
    },
    {
      "cell_type": "code",
      "metadata": {
        "id": "4a4Be72j8-ZC",
        "colab_type": "code",
        "outputId": "0fdbba97-80e9-4d1a-b313-13b7154c2203",
        "colab": {
          "base_uri": "https://localhost:8080/",
          "height": 303
        }
      },
      "source": [
        "print (X_train.shape)\n",
        "from matplotlib import pyplot as plt\n",
        "%matplotlib inline\n",
        "plt.imshow(X_train[1000])"
      ],
      "execution_count": 41,
      "outputs": [
        {
          "output_type": "stream",
          "text": [
            "(60000, 28, 28)\n"
          ],
          "name": "stdout"
        },
        {
          "output_type": "execute_result",
          "data": {
            "text/plain": [
              "<matplotlib.image.AxesImage at 0x7f62df53c860>"
            ]
          },
          "metadata": {
            "tags": []
          },
          "execution_count": 41
        },
        {
          "output_type": "display_data",
          "data": {
            "image/png": "[encoded data removed]",
            "text/plain": [
              "<Figure size 432x288 with 1 Axes>"
            ]
          },
          "metadata": {
            "tags": []
          }
        }
      ]
    },
    {
      "cell_type": "markdown",
      "metadata": {
        "id": "V8vPDrAMCSCL",
        "colab_type": "text"
      },
      "source": [
        "#### Reshaping the Image into required format"
      ]
    },
    {
      "cell_type": "code",
      "metadata": {
        "id": "dkmprriw9AnZ",
        "colab_type": "code",
        "colab": {}
      },
      "source": [
        "X_train = X_train.reshape(X_train.shape[0], 28, 28,1)\n",
        "X_test = X_test.reshape(X_test.shape[0], 28, 28,1)"
      ],
      "execution_count": 0,
      "outputs": []
    },
    {
      "cell_type": "markdown",
      "metadata": {
        "id": "T26lfnupCbpB",
        "colab_type": "text"
      },
      "source": [
        "#### Converting train and test data into float and normalizing the data"
      ]
    },
    {
      "cell_type": "code",
      "metadata": {
        "id": "X2m4YS4E9CRh",
        "colab_type": "code",
        "colab": {}
      },
      "source": [
        "X_train = X_train.astype('float32')\n",
        "X_test = X_test.astype('float32')\n"
      ],
      "execution_count": 0,
      "outputs": []
    },
    {
      "cell_type": "markdown",
      "metadata": {
        "id": "eb1I7LFYCkaC",
        "colab_type": "text"
      },
      "source": [
        "#### seeing the first 10 training labels"
      ]
    },
    {
      "cell_type": "code",
      "metadata": {
        "id": "0Mn0vAYD9DvB",
        "colab_type": "code",
        "outputId": "4bc90a8b-0a5c-4a49-bd0a-8bb764fc09d0",
        "colab": {
          "base_uri": "https://localhost:8080/",
          "height": 34
        }
      },
      "source": [
        "y_train[:10]"
      ],
      "execution_count": 44,
      "outputs": [
        {
          "output_type": "execute_result",
          "data": {
            "text/plain": [
              "array([5, 0, 4, 1, 9, 2, 1, 3, 1, 4], dtype=uint8)"
            ]
          },
          "metadata": {
            "tags": []
          },
          "execution_count": 44
        }
      ]
    },
    {
      "cell_type": "markdown",
      "metadata": {
        "id": "2kMH8_0SCvn6",
        "colab_type": "text"
      },
      "source": [
        ""
      ]
    },
    {
      "cell_type": "markdown",
      "metadata": {
        "id": "-6997wl7C3yE",
        "colab_type": "text"
      },
      "source": [
        "####  Convert 1-dimensional class arrays to 10-dimensional class matrices"
      ]
    },
    {
      "cell_type": "code",
      "metadata": {
        "id": "ZG8JiXR39FHC",
        "colab_type": "code",
        "colab": {}
      },
      "source": [
        "# Convert 1-dimensional class arrays to 10-dimensional class matrices\n",
        "Y_train = np_utils.to_categorical(y_train, 10)\n",
        "Y_test = np_utils.to_categorical(y_test, 10)"
      ],
      "execution_count": 0,
      "outputs": []
    },
    {
      "cell_type": "markdown",
      "metadata": {
        "id": "Oh9qpCzjDV7U",
        "colab_type": "text"
      },
      "source": [
        "#### Checking the training labels after converting them to 10-dimensional class matrices."
      ]
    },
    {
      "cell_type": "code",
      "metadata": {
        "id": "fYlFRvKS9HMB",
        "colab_type": "code",
        "outputId": "da760d36-acdc-4de6-e3fb-2575c55cb3dd",
        "colab": {
          "base_uri": "https://localhost:8080/",
          "height": 187
        }
      },
      "source": [
        "Y_train[:10]\n"
      ],
      "execution_count": 46,
      "outputs": [
        {
          "output_type": "execute_result",
          "data": {
            "text/plain": [
              "array([[0., 0., 0., 0., 0., 1., 0., 0., 0., 0.],\n",
              "       [1., 0., 0., 0., 0., 0., 0., 0., 0., 0.],\n",
              "       [0., 0., 0., 0., 1., 0., 0., 0., 0., 0.],\n",
              "       [0., 1., 0., 0., 0., 0., 0., 0., 0., 0.],\n",
              "       [0., 0., 0., 0., 0., 0., 0., 0., 0., 1.],\n",
              "       [0., 0., 1., 0., 0., 0., 0., 0., 0., 0.],\n",
              "       [0., 1., 0., 0., 0., 0., 0., 0., 0., 0.],\n",
              "       [0., 0., 0., 1., 0., 0., 0., 0., 0., 0.],\n",
              "       [0., 1., 0., 0., 0., 0., 0., 0., 0., 0.],\n",
              "       [0., 0., 0., 0., 1., 0., 0., 0., 0., 0.]], dtype=float32)"
            ]
          },
          "metadata": {
            "tags": []
          },
          "execution_count": 46
        }
      ]
    },
    {
      "cell_type": "markdown",
      "metadata": {
        "id": "79D-tLGHDjKF",
        "colab_type": "text"
      },
      "source": [
        "#### Importing the required operators for convolutions"
      ]
    },
    {
      "cell_type": "code",
      "metadata": {
        "id": "0dB_qhIs6Ax5",
        "colab_type": "code",
        "colab": {}
      },
      "source": [
        "from keras.layers import Conv2D, MaxPooling2D,BatchNormalization,Flatten,GlobalAveragePooling2D,Dropout"
      ],
      "execution_count": 0,
      "outputs": []
    },
    {
      "cell_type": "code",
      "metadata": {
        "id": "v9umOAl4KiZe",
        "colab_type": "code",
        "colab": {
          "base_uri": "https://localhost:8080/",
          "height": 51
        },
        "outputId": "3833da62-f492-499d-ed9f-40295c819a87"
      },
      "source": [
        "\n",
        "# confirm scale of pixels\n",
        "print('Train min=%.3f, max=%.3f' % (X_train.min(), X_train.max()))\n",
        "print('Test min=%.3f, max=%.3f' % (X_train.min(), X_test.max()))\n"
      ],
      "execution_count": 48,
      "outputs": [
        {
          "output_type": "stream",
          "text": [
            "Train min=0.000, max=255.000\n",
            "Test min=0.000, max=255.000\n"
          ],
          "name": "stdout"
        }
      ]
    },
    {
      "cell_type": "code",
      "metadata": {
        "id": "tTR-qORCtA8V",
        "colab_type": "code",
        "colab": {
          "base_uri": "https://localhost:8080/",
          "height": 34
        },
        "outputId": "1d6ea51e-63e5-492b-dc82-1773f8950614"
      },
      "source": [
        "y_test"
      ],
      "execution_count": 49,
      "outputs": [
        {
          "output_type": "execute_result",
          "data": {
            "text/plain": [
              "array([7, 2, 1, ..., 4, 5, 6], dtype=uint8)"
            ]
          },
          "metadata": {
            "tags": []
          },
          "execution_count": 49
        }
      ]
    },
    {
      "cell_type": "code",
      "metadata": {
        "id": "mET5w43yrayX",
        "colab_type": "code",
        "colab": {}
      },
      "source": [
        "from keras.preprocessing.image import ImageDataGenerator"
      ],
      "execution_count": 0,
      "outputs": []
    },
    {
      "cell_type": "code",
      "metadata": {
        "id": "o0Fecmv5iwZG",
        "colab_type": "code",
        "colab": {
          "base_uri": "https://localhost:8080/",
          "height": 51
        },
        "outputId": "b85ea57e-91e9-4639-cb20-70b4e5e9c08a"
      },
      "source": [
        "#proper explanation of usage of Image data generator(both batch normalization and data augmentation):-https://keras.io/preprocessing/image/\n",
        "datagen = ImageDataGenerator(featurewise_center=True, featurewise_std_normalization=True)\n",
        "\n",
        "# calculate mean on training dataset\n",
        "datagen.fit(X_train)\n",
        "\n",
        "# preparing an iterators to scale images\n",
        "train_iterator = datagen.flow(X_train, Y_train, batch_size=128)\n",
        "test_iterator = datagen.flow(X_test, Y_test, batch_size=128)\n",
        "print('Batches train=%d, test=%d' % (len(train_iterator), len(test_iterator)))\n",
        "\n",
        "# checking the shape\n",
        "batchX, batchy = train_iterator.next()\n",
        "print('Batch shape=%s, min=%.3f, max=%.3f' % (batchX.shape, batchX.min(), batchX.max()))\n"
      ],
      "execution_count": 89,
      "outputs": [
        {
          "output_type": "stream",
          "text": [
            "Batches train=469, test=79\n",
            "Batch shape=(128, 28, 28, 1), min=-0.424, max=2.822\n"
          ],
          "name": "stdout"
        }
      ]
    },
    {
      "cell_type": "markdown",
      "metadata": {
        "id": "ytmE9H32D2zG",
        "colab_type": "text"
      },
      "source": [
        "# Fourth Neural Network Model"
      ]
    },
    {
      "cell_type": "code",
      "metadata": {
        "id": "NWLWWuoUWxsX",
        "colab_type": "code",
        "outputId": "86f75892-2548-4afe-8b67-e776299254b8",
        "colab": {
          "base_uri": "https://localhost:8080/",
          "height": 224
        }
      },
      "source": [
        "\n",
        "model1 = Sequential()\n",
        "model1.add(Convolution2D(8,3,3,input_shape=(28,28,1),kernel_regularizer=l2(0.0001),bias_regularizer = l2(0.0001))) #(3*3,26*26)\n",
        "model1.add(BatchNormalization(axis=3))\n",
        "model1.add(Activation('relu'))\n",
        "model1.add(Dropout(0.1))\n",
        "\n",
        "\n",
        "model1.add(Convolution2D(10,3,3,kernel_regularizer=l2(0.0001),bias_regularizer = l2(0.0001))) #(5*5,24*24)\n",
        "model1.add(BatchNormalization(axis=3))\n",
        "model1.add(Activation('relu'))\n",
        "model1.add(Dropout(0.1))\n",
        "\n",
        "\n",
        "model1.add(Convolution2D(32,3,3,kernel_regularizer=l2(0.0001),bias_regularizer = l2(0.0001))) #(7*7,22*22)\n",
        "model1.add(BatchNormalization(axis=3))\n",
        "model1.add(Activation('relu'))\n",
        "model1.add(Dropout(0.1))\n",
        "\n",
        "\n",
        "model1.add(Convolution2D(8,1,1,kernel_regularizer=l2(0.0001),bias_regularizer = l2(0.0001))) #(7*7,22*22)\n",
        "model1.add(BatchNormalization(axis=3))\n",
        "model1.add(Activation('relu'))\n",
        "model1.add(MaxPooling2D(pool_size=(2,2))) #(14*14,11*11)\n",
        "\n",
        "\n",
        "model1.add(Convolution2D(10,3,3,kernel_regularizer=l2(0.0001),bias_regularizer = l2(0.0001))) #(16*16,9*9)\n",
        "model1.add(BatchNormalization(axis=3))\n",
        "model1.add(Activation('relu'))\n",
        "model1.add(Dropout(0.1))\n",
        "\n",
        "\n",
        "model1.add(Convolution2D(32,3,3,kernel_regularizer=l2(0.0001),bias_regularizer = l2(0.0001))) #(18*18,7*7)\n",
        "model1.add(BatchNormalization(axis=3))\n",
        "model1.add(Activation('relu'))\n",
        "model1.add(Dropout(0.1))\n",
        "\n",
        "model1.add(Convolution2D(10,1,1,kernel_regularizer=l2(0.0001),bias_regularizer = l2(0.0001))) #(18*18,7*7)\n",
        "model1.add(BatchNormalization(axis=3))\n",
        "model1.add(Activation('relu'))\n",
        "model1.add(Dropout(0.1))\n",
        "\n",
        "\n",
        "model1.add(Convolution2D(10,7,7,kernel_regularizer=l2(0.0001),bias_regularizer = l2(0.0001))) #(24*24,10*1*1)\n",
        "#final activation as softmax.\n",
        "model1.add(Flatten())\n",
        "model1.add(Activation('softmax'))"
      ],
      "execution_count": 90,
      "outputs": [
        {
          "output_type": "stream",
          "text": [
            "/usr/local/lib/python3.6/dist-packages/ipykernel_launcher.py:3: UserWarning: Update your `Conv2D` call to the Keras 2 API: `Conv2D(8, (3, 3), input_shape=(28, 28, 1..., kernel_regularizer=<keras.reg..., bias_regularizer=<keras.reg...)`\n",
            "  This is separate from the ipykernel package so we can avoid doing imports until\n",
            "/usr/local/lib/python3.6/dist-packages/ipykernel_launcher.py:9: UserWarning: Update your `Conv2D` call to the Keras 2 API: `Conv2D(10, (3, 3), kernel_regularizer=<keras.reg..., bias_regularizer=<keras.reg...)`\n",
            "  if __name__ == '__main__':\n",
            "/usr/local/lib/python3.6/dist-packages/ipykernel_launcher.py:15: UserWarning: Update your `Conv2D` call to the Keras 2 API: `Conv2D(32, (3, 3), kernel_regularizer=<keras.reg..., bias_regularizer=<keras.reg...)`\n",
            "  from ipykernel import kernelapp as app\n",
            "/usr/local/lib/python3.6/dist-packages/ipykernel_launcher.py:21: UserWarning: Update your `Conv2D` call to the Keras 2 API: `Conv2D(8, (1, 1), kernel_regularizer=<keras.reg..., bias_regularizer=<keras.reg...)`\n",
            "/usr/local/lib/python3.6/dist-packages/ipykernel_launcher.py:27: UserWarning: Update your `Conv2D` call to the Keras 2 API: `Conv2D(10, (3, 3), kernel_regularizer=<keras.reg..., bias_regularizer=<keras.reg...)`\n",
            "/usr/local/lib/python3.6/dist-packages/ipykernel_launcher.py:33: UserWarning: Update your `Conv2D` call to the Keras 2 API: `Conv2D(32, (3, 3), kernel_regularizer=<keras.reg..., bias_regularizer=<keras.reg...)`\n",
            "/usr/local/lib/python3.6/dist-packages/ipykernel_launcher.py:38: UserWarning: Update your `Conv2D` call to the Keras 2 API: `Conv2D(10, (1, 1), kernel_regularizer=<keras.reg..., bias_regularizer=<keras.reg...)`\n",
            "/usr/local/lib/python3.6/dist-packages/ipykernel_launcher.py:44: UserWarning: Update your `Conv2D` call to the Keras 2 API: `Conv2D(10, (7, 7), kernel_regularizer=<keras.reg..., bias_regularizer=<keras.reg...)`\n"
          ],
          "name": "stderr"
        }
      ]
    },
    {
      "cell_type": "markdown",
      "metadata": {
        "id": "4qwYy1PWF93v",
        "colab_type": "text"
      },
      "source": [
        "#### Printing the summary of the model"
      ]
    },
    {
      "cell_type": "code",
      "metadata": {
        "id": "AYCUgb3_XdwU",
        "colab_type": "code",
        "outputId": "68969a25-e0d4-4f77-9287-1395a65faa31",
        "colab": {
          "base_uri": "https://localhost:8080/",
          "height": 1190
        }
      },
      "source": [
        "model1.summary()"
      ],
      "execution_count": 91,
      "outputs": [
        {
          "output_type": "stream",
          "text": [
            "_________________________________________________________________\n",
            "Layer (type)                 Output Shape              Param #   \n",
            "=================================================================\n",
            "conv2d_33 (Conv2D)           (None, 26, 26, 8)         80        \n",
            "_________________________________________________________________\n",
            "batch_normalization_29 (Batc (None, 26, 26, 8)         32        \n",
            "_________________________________________________________________\n",
            "activation_33 (Activation)   (None, 26, 26, 8)         0         \n",
            "_________________________________________________________________\n",
            "dropout_25 (Dropout)         (None, 26, 26, 8)         0         \n",
            "_________________________________________________________________\n",
            "conv2d_34 (Conv2D)           (None, 24, 24, 10)        730       \n",
            "_________________________________________________________________\n",
            "batch_normalization_30 (Batc (None, 24, 24, 10)        40        \n",
            "_________________________________________________________________\n",
            "activation_34 (Activation)   (None, 24, 24, 10)        0         \n",
            "_________________________________________________________________\n",
            "dropout_26 (Dropout)         (None, 24, 24, 10)        0         \n",
            "_________________________________________________________________\n",
            "conv2d_35 (Conv2D)           (None, 22, 22, 32)        2912      \n",
            "_________________________________________________________________\n",
            "batch_normalization_31 (Batc (None, 22, 22, 32)        128       \n",
            "_________________________________________________________________\n",
            "activation_35 (Activation)   (None, 22, 22, 32)        0         \n",
            "_________________________________________________________________\n",
            "dropout_27 (Dropout)         (None, 22, 22, 32)        0         \n",
            "_________________________________________________________________\n",
            "conv2d_36 (Conv2D)           (None, 22, 22, 8)         264       \n",
            "_________________________________________________________________\n",
            "batch_normalization_32 (Batc (None, 22, 22, 8)         32        \n",
            "_________________________________________________________________\n",
            "activation_36 (Activation)   (None, 22, 22, 8)         0         \n",
            "_________________________________________________________________\n",
            "max_pooling2d_5 (MaxPooling2 (None, 11, 11, 8)         0         \n",
            "_________________________________________________________________\n",
            "conv2d_37 (Conv2D)           (None, 9, 9, 10)          730       \n",
            "_________________________________________________________________\n",
            "batch_normalization_33 (Batc (None, 9, 9, 10)          40        \n",
            "_________________________________________________________________\n",
            "activation_37 (Activation)   (None, 9, 9, 10)          0         \n",
            "_________________________________________________________________\n",
            "dropout_28 (Dropout)         (None, 9, 9, 10)          0         \n",
            "_________________________________________________________________\n",
            "conv2d_38 (Conv2D)           (None, 7, 7, 32)          2912      \n",
            "_________________________________________________________________\n",
            "batch_normalization_34 (Batc (None, 7, 7, 32)          128       \n",
            "_________________________________________________________________\n",
            "activation_38 (Activation)   (None, 7, 7, 32)          0         \n",
            "_________________________________________________________________\n",
            "dropout_29 (Dropout)         (None, 7, 7, 32)          0         \n",
            "_________________________________________________________________\n",
            "conv2d_39 (Conv2D)           (None, 7, 7, 10)          330       \n",
            "_________________________________________________________________\n",
            "batch_normalization_35 (Batc (None, 7, 7, 10)          40        \n",
            "_________________________________________________________________\n",
            "activation_39 (Activation)   (None, 7, 7, 10)          0         \n",
            "_________________________________________________________________\n",
            "dropout_30 (Dropout)         (None, 7, 7, 10)          0         \n",
            "_________________________________________________________________\n",
            "conv2d_40 (Conv2D)           (None, 1, 1, 10)          4910      \n",
            "_________________________________________________________________\n",
            "flatten_5 (Flatten)          (None, 10)                0         \n",
            "_________________________________________________________________\n",
            "activation_40 (Activation)   (None, 10)                0         \n",
            "=================================================================\n",
            "Total params: 13,308\n",
            "Trainable params: 13,088\n",
            "Non-trainable params: 220\n",
            "_________________________________________________________________\n"
          ],
          "name": "stdout"
        }
      ]
    },
    {
      "cell_type": "markdown",
      "metadata": {
        "id": "vN6E5JKUGDEG",
        "colab_type": "text"
      },
      "source": [
        "#### Importing the Adam optimizer."
      ]
    },
    {
      "cell_type": "code",
      "metadata": {
        "id": "NIVT1VvHGdTn",
        "colab_type": "code",
        "colab": {}
      },
      "source": [
        "from keras.optimizers import Adam"
      ],
      "execution_count": 0,
      "outputs": []
    },
    {
      "cell_type": "code",
      "metadata": {
        "id": "8m1EMkWGaz84",
        "colab_type": "code",
        "colab": {}
      },
      "source": [
        "\n",
        "\n",
        "from keras.optimizers import Adam\n",
        "from keras.callbacks import LearningRateScheduler\n",
        "def scheduler(epoch, lr):\n",
        "  return round(0.003 * 1/(1 + 0.319 * epoch), 10)\n",
        "\n",
        "model1.compile(loss='categorical_crossentropy', optimizer=Adam(lr=0.003), metrics=['accuracy'])\n",
        "\n"
      ],
      "execution_count": 0,
      "outputs": []
    },
    {
      "cell_type": "code",
      "metadata": {
        "id": "ZmWDW1R_a7DF",
        "colab_type": "code",
        "colab": {}
      },
      "source": [
        "!pip install -U -q PyDrive\n",
        "from pydrive.auth import GoogleAuth\n",
        "from pydrive.drive import GoogleDrive\n",
        "from google.colab import auth\n",
        "from oauth2client.client import GoogleCredentials"
      ],
      "execution_count": 0,
      "outputs": []
    },
    {
      "cell_type": "code",
      "metadata": {
        "id": "2gnLu0oYbAUN",
        "colab_type": "code",
        "colab": {}
      },
      "source": [
        "from keras.callbacks import ModelCheckpoint"
      ],
      "execution_count": 0,
      "outputs": []
    },
    {
      "cell_type": "code",
      "metadata": {
        "id": "cvuDzI9ibB9E",
        "colab_type": "code",
        "colab": {}
      },
      "source": [
        "# checkpoint\n",
        "filepath=\"./Assignment5_03_06_2019-{epoch:02d}-{val_acc:.2f}.hdf5\"\n",
        "checkpoint = ModelCheckpoint(filepath, monitor='val_acc', verbose=1, save_best_only=True, mode='max')\n",
        "callbacks_list = [checkpoint,LearningRateScheduler(scheduler, verbose=1)]"
      ],
      "execution_count": 0,
      "outputs": []
    },
    {
      "cell_type": "code",
      "metadata": {
        "id": "cpCOy788dq5J",
        "colab_type": "code",
        "colab": {
          "base_uri": "https://localhost:8080/",
          "height": 34
        },
        "outputId": "e307f5ee-41a9-45e8-de12-206627839de7"
      },
      "source": [
        "type(test_iterator.y)"
      ],
      "execution_count": 96,
      "outputs": [
        {
          "output_type": "execute_result",
          "data": {
            "text/plain": [
              "numpy.ndarray"
            ]
          },
          "metadata": {
            "tags": []
          },
          "execution_count": 96
        }
      ]
    },
    {
      "cell_type": "code",
      "metadata": {
        "id": "zIRhmhuUbB_q",
        "colab_type": "code",
        "colab": {
          "base_uri": "https://localhost:8080/",
          "height": 4114
        },
        "outputId": "b8cd9835-01e5-40fb-ab5f-125a3364606a"
      },
      "source": [
        "# fit model with generator\n",
        "model1.fit_generator(train_iterator, steps_per_epoch=len(train_iterator), epochs=40,callbacks=callbacks_list,validation_data=(test_iterator.x,test_iterator.y))"
      ],
      "execution_count": 97,
      "outputs": [
        {
          "output_type": "stream",
          "text": [
            "Epoch 1/40\n",
            "\n",
            "Epoch 00001: LearningRateScheduler setting learning rate to 0.003.\n",
            "469/469 [==============================] - 14s 29ms/step - loss: 0.2220 - acc: 0.9340 - val_loss: 2.3619 - val_acc: 0.8438\n",
            "\n",
            "Epoch 00001: val_acc improved from -inf to 0.84380, saving model to ./Assignment5_03_06_2019-01-0.84.hdf5\n",
            "Epoch 2/40\n",
            "\n",
            "Epoch 00002: LearningRateScheduler setting learning rate to 0.0022744503.\n",
            "469/469 [==============================] - 8s 17ms/step - loss: 0.0765 - acc: 0.9803 - val_loss: 2.5336 - val_acc: 0.8313\n",
            "\n",
            "Epoch 00002: val_acc did not improve from 0.84380\n",
            "Epoch 3/40\n",
            "\n",
            "Epoch 00003: LearningRateScheduler setting learning rate to 0.0018315018.\n",
            "469/469 [==============================] - 8s 17ms/step - loss: 0.0644 - acc: 0.9845 - val_loss: 2.3362 - val_acc: 0.8437\n",
            "\n",
            "Epoch 00003: val_acc did not improve from 0.84380\n",
            "Epoch 4/40\n",
            "\n",
            "Epoch 00004: LearningRateScheduler setting learning rate to 0.0015329586.\n",
            "469/469 [==============================] - 8s 17ms/step - loss: 0.0564 - acc: 0.9865 - val_loss: 2.6136 - val_acc: 0.8243\n",
            "\n",
            "Epoch 00004: val_acc did not improve from 0.84380\n",
            "Epoch 5/40\n",
            "\n",
            "Epoch 00005: LearningRateScheduler setting learning rate to 0.0013181019.\n",
            "469/469 [==============================] - 8s 17ms/step - loss: 0.0527 - acc: 0.9882 - val_loss: 3.2202 - val_acc: 0.7861\n",
            "\n",
            "Epoch 00005: val_acc did not improve from 0.84380\n",
            "Epoch 6/40\n",
            "\n",
            "Epoch 00006: LearningRateScheduler setting learning rate to 0.0011560694.\n",
            "469/469 [==============================] - 8s 17ms/step - loss: 0.0472 - acc: 0.9894 - val_loss: 2.3125 - val_acc: 0.8463\n",
            "\n",
            "Epoch 00006: val_acc improved from 0.84380 to 0.84630, saving model to ./Assignment5_03_06_2019-06-0.85.hdf5\n",
            "Epoch 7/40\n",
            "\n",
            "Epoch 00007: LearningRateScheduler setting learning rate to 0.0010295127.\n",
            "469/469 [==============================] - 8s 17ms/step - loss: 0.0462 - acc: 0.9901 - val_loss: 2.6736 - val_acc: 0.8226\n",
            "\n",
            "Epoch 00007: val_acc did not improve from 0.84630\n",
            "Epoch 8/40\n",
            "\n",
            "Epoch 00008: LearningRateScheduler setting learning rate to 0.0009279307.\n",
            "469/469 [==============================] - 8s 17ms/step - loss: 0.0446 - acc: 0.9903 - val_loss: 2.3882 - val_acc: 0.8393\n",
            "\n",
            "Epoch 00008: val_acc did not improve from 0.84630\n",
            "Epoch 9/40\n",
            "\n",
            "Epoch 00009: LearningRateScheduler setting learning rate to 0.0008445946.\n",
            "469/469 [==============================] - 8s 17ms/step - loss: 0.0421 - acc: 0.9909 - val_loss: 2.9016 - val_acc: 0.8034\n",
            "\n",
            "Epoch 00009: val_acc did not improve from 0.84630\n",
            "Epoch 10/40\n",
            "\n",
            "Epoch 00010: LearningRateScheduler setting learning rate to 0.0007749935.\n",
            "469/469 [==============================] - 8s 17ms/step - loss: 0.0416 - acc: 0.9909 - val_loss: 2.0356 - val_acc: 0.8618\n",
            "\n",
            "Epoch 00010: val_acc improved from 0.84630 to 0.86180, saving model to ./Assignment5_03_06_2019-10-0.86.hdf5\n",
            "Epoch 11/40\n",
            "\n",
            "Epoch 00011: LearningRateScheduler setting learning rate to 0.0007159905.\n",
            "469/469 [==============================] - 8s 17ms/step - loss: 0.0390 - acc: 0.9920 - val_loss: 2.9092 - val_acc: 0.8038\n",
            "\n",
            "Epoch 00011: val_acc did not improve from 0.86180\n",
            "Epoch 12/40\n",
            "\n",
            "Epoch 00012: LearningRateScheduler setting learning rate to 0.000665336.\n",
            "469/469 [==============================] - 8s 17ms/step - loss: 0.0378 - acc: 0.9922 - val_loss: 3.3625 - val_acc: 0.7743\n",
            "\n",
            "Epoch 00012: val_acc did not improve from 0.86180\n",
            "Epoch 13/40\n",
            "\n",
            "Epoch 00013: LearningRateScheduler setting learning rate to 0.0006213753.\n",
            "469/469 [==============================] - 8s 17ms/step - loss: 0.0370 - acc: 0.9922 - val_loss: 2.6718 - val_acc: 0.8178\n",
            "\n",
            "Epoch 00013: val_acc did not improve from 0.86180\n",
            "Epoch 14/40\n",
            "\n",
            "Epoch 00014: LearningRateScheduler setting learning rate to 0.0005828638.\n",
            "469/469 [==============================] - 8s 17ms/step - loss: 0.0375 - acc: 0.9918 - val_loss: 2.3458 - val_acc: 0.8389\n",
            "\n",
            "Epoch 00014: val_acc did not improve from 0.86180\n",
            "Epoch 15/40\n",
            "\n",
            "Epoch 00015: LearningRateScheduler setting learning rate to 0.0005488474.\n",
            "469/469 [==============================] - 8s 17ms/step - loss: 0.0351 - acc: 0.9926 - val_loss: 2.7355 - val_acc: 0.8132\n",
            "\n",
            "Epoch 00015: val_acc did not improve from 0.86180\n",
            "Epoch 16/40\n",
            "\n",
            "Epoch 00016: LearningRateScheduler setting learning rate to 0.0005185825.\n",
            "469/469 [==============================] - 8s 17ms/step - loss: 0.0342 - acc: 0.9931 - val_loss: 2.4342 - val_acc: 0.8358\n",
            "\n",
            "Epoch 00016: val_acc did not improve from 0.86180\n",
            "Epoch 17/40\n",
            "\n",
            "Epoch 00017: LearningRateScheduler setting learning rate to 0.000491481.\n",
            "469/469 [==============================] - 8s 17ms/step - loss: 0.0334 - acc: 0.9931 - val_loss: 2.2445 - val_acc: 0.8445\n",
            "\n",
            "Epoch 00017: val_acc did not improve from 0.86180\n",
            "Epoch 18/40\n",
            "\n",
            "Epoch 00018: LearningRateScheduler setting learning rate to 0.0004670715.\n",
            "469/469 [==============================] - 8s 17ms/step - loss: 0.0322 - acc: 0.9936 - val_loss: 2.0699 - val_acc: 0.8570\n",
            "\n",
            "Epoch 00018: val_acc did not improve from 0.86180\n",
            "Epoch 19/40\n",
            "\n",
            "Epoch 00019: LearningRateScheduler setting learning rate to 0.0004449718.\n",
            "469/469 [==============================] - 8s 17ms/step - loss: 0.0329 - acc: 0.9934 - val_loss: 2.7055 - val_acc: 0.8141\n",
            "\n",
            "Epoch 00019: val_acc did not improve from 0.86180\n",
            "Epoch 20/40\n",
            "\n",
            "Epoch 00020: LearningRateScheduler setting learning rate to 0.000424869.\n",
            "469/469 [==============================] - 8s 17ms/step - loss: 0.0311 - acc: 0.9937 - val_loss: 2.3743 - val_acc: 0.8385\n",
            "\n",
            "Epoch 00020: val_acc did not improve from 0.86180\n",
            "Epoch 21/40\n",
            "\n",
            "Epoch 00021: LearningRateScheduler setting learning rate to 0.0004065041.\n",
            "469/469 [==============================] - 8s 17ms/step - loss: 0.0318 - acc: 0.9935 - val_loss: 2.6890 - val_acc: 0.8145\n",
            "\n",
            "Epoch 00021: val_acc did not improve from 0.86180\n",
            "Epoch 22/40\n",
            "\n",
            "Epoch 00022: LearningRateScheduler setting learning rate to 0.000389661.\n",
            "469/469 [==============================] - 8s 17ms/step - loss: 0.0315 - acc: 0.9934 - val_loss: 2.6457 - val_acc: 0.8168\n",
            "\n",
            "Epoch 00022: val_acc did not improve from 0.86180\n",
            "Epoch 23/40\n",
            "\n",
            "Epoch 00023: LearningRateScheduler setting learning rate to 0.0003741581.\n",
            "469/469 [==============================] - 8s 17ms/step - loss: 0.0306 - acc: 0.9937 - val_loss: 2.1829 - val_acc: 0.8497\n",
            "\n",
            "Epoch 00023: val_acc did not improve from 0.86180\n",
            "Epoch 24/40\n",
            "\n",
            "Epoch 00024: LearningRateScheduler setting learning rate to 0.0003598417.\n",
            "469/469 [==============================] - 8s 17ms/step - loss: 0.0307 - acc: 0.9938 - val_loss: 2.6727 - val_acc: 0.8161\n",
            "\n",
            "Epoch 00024: val_acc did not improve from 0.86180\n",
            "Epoch 25/40\n",
            "\n",
            "Epoch 00025: LearningRateScheduler setting learning rate to 0.0003465804.\n",
            "469/469 [==============================] - 8s 17ms/step - loss: 0.0299 - acc: 0.9940 - val_loss: 2.6228 - val_acc: 0.8190\n",
            "\n",
            "Epoch 00025: val_acc did not improve from 0.86180\n",
            "Epoch 26/40\n",
            "\n",
            "Epoch 00026: LearningRateScheduler setting learning rate to 0.0003342618.\n",
            "469/469 [==============================] - 8s 17ms/step - loss: 0.0294 - acc: 0.9941 - val_loss: 2.4338 - val_acc: 0.8313\n",
            "\n",
            "Epoch 00026: val_acc did not improve from 0.86180\n",
            "Epoch 27/40\n",
            "\n",
            "Epoch 00027: LearningRateScheduler setting learning rate to 0.0003227889.\n",
            "469/469 [==============================] - 8s 17ms/step - loss: 0.0289 - acc: 0.9942 - val_loss: 2.0334 - val_acc: 0.8574\n",
            "\n",
            "Epoch 00027: val_acc did not improve from 0.86180\n",
            "Epoch 28/40\n",
            "\n",
            "Epoch 00028: LearningRateScheduler setting learning rate to 0.0003120774.\n",
            "469/469 [==============================] - 8s 17ms/step - loss: 0.0285 - acc: 0.9946 - val_loss: 2.1456 - val_acc: 0.8488\n",
            "\n",
            "Epoch 00028: val_acc did not improve from 0.86180\n",
            "Epoch 29/40\n",
            "\n",
            "Epoch 00029: LearningRateScheduler setting learning rate to 0.000302054.\n",
            "469/469 [==============================] - 8s 17ms/step - loss: 0.0286 - acc: 0.9943 - val_loss: 2.0084 - val_acc: 0.8599\n",
            "\n",
            "Epoch 00029: val_acc did not improve from 0.86180\n",
            "Epoch 30/40\n",
            "\n",
            "Epoch 00030: LearningRateScheduler setting learning rate to 0.0002926544.\n",
            "469/469 [==============================] - 8s 17ms/step - loss: 0.0277 - acc: 0.9946 - val_loss: 2.3604 - val_acc: 0.8379\n",
            "\n",
            "Epoch 00030: val_acc did not improve from 0.86180\n",
            "Epoch 31/40\n",
            "\n",
            "Epoch 00031: LearningRateScheduler setting learning rate to 0.0002838221.\n",
            "469/469 [==============================] - 8s 17ms/step - loss: 0.0272 - acc: 0.9947 - val_loss: 1.9967 - val_acc: 0.8594\n",
            "\n",
            "Epoch 00031: val_acc did not improve from 0.86180\n",
            "Epoch 32/40\n",
            "\n",
            "Epoch 00032: LearningRateScheduler setting learning rate to 0.0002755074.\n",
            "469/469 [==============================] - 8s 17ms/step - loss: 0.0267 - acc: 0.9946 - val_loss: 1.8475 - val_acc: 0.8695\n",
            "\n",
            "Epoch 00032: val_acc improved from 0.86180 to 0.86950, saving model to ./Assignment5_03_06_2019-32-0.87.hdf5\n",
            "Epoch 33/40\n",
            "\n",
            "Epoch 00033: LearningRateScheduler setting learning rate to 0.000267666.\n",
            "469/469 [==============================] - 8s 17ms/step - loss: 0.0269 - acc: 0.9945 - val_loss: 1.8681 - val_acc: 0.8706\n",
            "\n",
            "Epoch 00033: val_acc improved from 0.86950 to 0.87060, saving model to ./Assignment5_03_06_2019-33-0.87.hdf5\n",
            "Epoch 34/40\n",
            "\n",
            "Epoch 00034: LearningRateScheduler setting learning rate to 0.0002602585.\n",
            "469/469 [==============================] - 8s 17ms/step - loss: 0.0262 - acc: 0.9951 - val_loss: 1.9159 - val_acc: 0.8673\n",
            "\n",
            "Epoch 00034: val_acc did not improve from 0.87060\n",
            "Epoch 35/40\n",
            "\n",
            "Epoch 00035: LearningRateScheduler setting learning rate to 0.00025325.\n",
            "469/469 [==============================] - 8s 17ms/step - loss: 0.0255 - acc: 0.9954 - val_loss: 2.1600 - val_acc: 0.8501\n",
            "\n",
            "Epoch 00035: val_acc did not improve from 0.87060\n",
            "Epoch 36/40\n",
            "\n",
            "Epoch 00036: LearningRateScheduler setting learning rate to 0.0002466091.\n",
            "469/469 [==============================] - 8s 17ms/step - loss: 0.0255 - acc: 0.9949 - val_loss: 2.0165 - val_acc: 0.8593\n",
            "\n",
            "Epoch 00036: val_acc did not improve from 0.87060\n",
            "Epoch 37/40\n",
            "\n",
            "Epoch 00037: LearningRateScheduler setting learning rate to 0.0002403076.\n",
            "469/469 [==============================] - 8s 17ms/step - loss: 0.0266 - acc: 0.9949 - val_loss: 1.9138 - val_acc: 0.8668\n",
            "\n",
            "Epoch 00037: val_acc did not improve from 0.87060\n",
            "Epoch 38/40\n",
            "\n",
            "Epoch 00038: LearningRateScheduler setting learning rate to 0.0002343201.\n",
            "469/469 [==============================] - 8s 17ms/step - loss: 0.0266 - acc: 0.9947 - val_loss: 1.8621 - val_acc: 0.8680\n",
            "\n",
            "Epoch 00038: val_acc did not improve from 0.87060\n",
            "Epoch 39/40\n",
            "\n",
            "Epoch 00039: LearningRateScheduler setting learning rate to 0.0002286237.\n",
            "469/469 [==============================] - 8s 17ms/step - loss: 0.0255 - acc: 0.9950 - val_loss: 1.7076 - val_acc: 0.8807\n",
            "\n",
            "Epoch 00039: val_acc improved from 0.87060 to 0.88070, saving model to ./Assignment5_03_06_2019-39-0.88.hdf5\n",
            "Epoch 40/40\n",
            "\n",
            "Epoch 00040: LearningRateScheduler setting learning rate to 0.0002231977.\n",
            "469/469 [==============================] - 8s 17ms/step - loss: 0.0249 - acc: 0.9952 - val_loss: 1.8819 - val_acc: 0.8695\n",
            "\n",
            "Epoch 00040: val_acc did not improve from 0.88070\n"
          ],
          "name": "stdout"
        },
        {
          "output_type": "execute_result",
          "data": {
            "text/plain": [
              "<keras.callbacks.History at 0x7f62d7c21080>"
            ]
          },
          "metadata": {
            "tags": []
          },
          "execution_count": 97
        }
      ]
    },
    {
      "cell_type": "code",
      "metadata": {
        "id": "3x4Nqp5l8ZXg",
        "colab_type": "code",
        "colab": {}
      },
      "source": [
        "#training and testing the model with 40 epocs\n",
        "\n",
        "from keras.optimizers import Adam, SGD\n",
        "from keras.callbacks import LearningRateScheduler\n",
        "def scheduler(epoch, lr):\n",
        "  return round(0.003 * 1/(1 + 0.319 * epoch), 10)\n",
        "\n",
        "model1.compile(loss='categorical_crossentropy', optimizer=Adam(lr=0.003), metrics=['accuracy'])\n",
        "\n",
        "model1.fit(X_train, Y_train, batch_size=128, epochs=40, verbose=1, validation_data=(X_test, Y_test), callbacks=[LearningRateScheduler(scheduler, verbose=1)])"
      ],
      "execution_count": 0,
      "outputs": []
    },
    {
      "cell_type": "code",
      "metadata": {
        "id": "OCWoJkwE9suh",
        "colab_type": "code",
        "colab": {}
      },
      "source": [
        "y_pred = model1.predict(X_test)"
      ],
      "execution_count": 0,
      "outputs": []
    },
    {
      "cell_type": "markdown",
      "metadata": {
        "id": "VkgSw7AwHAZb",
        "colab_type": "text"
      },
      "source": [
        "#### Seeing the first nine predictions"
      ]
    },
    {
      "cell_type": "code",
      "metadata": {
        "id": "Ym7iCFBm9uBs",
        "colab_type": "code",
        "outputId": "d7df239b-fc10-429b-9d0a-1c31e8972c84",
        "colab": {
          "base_uri": "https://localhost:8080/",
          "height": 340
        }
      },
      "source": [
        "print(y_pred[:9])\n",
        "print(y_test[:9])"
      ],
      "execution_count": 99,
      "outputs": [
        {
          "output_type": "stream",
          "text": [
            "[[0.0000000e+00 0.0000000e+00 0.0000000e+00 0.0000000e+00 0.0000000e+00\n",
            "  0.0000000e+00 0.0000000e+00 1.0000000e+00 0.0000000e+00 0.0000000e+00]\n",
            " [0.0000000e+00 0.0000000e+00 1.0000000e+00 0.0000000e+00 0.0000000e+00\n",
            "  0.0000000e+00 0.0000000e+00 0.0000000e+00 0.0000000e+00 0.0000000e+00]\n",
            " [0.0000000e+00 2.8622602e-10 0.0000000e+00 0.0000000e+00 7.5592110e-21\n",
            "  1.6439842e-17 2.4539655e-37 2.1972279e-31 1.0000000e+00 0.0000000e+00]\n",
            " [1.0000000e+00 0.0000000e+00 0.0000000e+00 0.0000000e+00 0.0000000e+00\n",
            "  0.0000000e+00 0.0000000e+00 0.0000000e+00 0.0000000e+00 0.0000000e+00]\n",
            " [0.0000000e+00 0.0000000e+00 0.0000000e+00 0.0000000e+00 1.0000000e+00\n",
            "  0.0000000e+00 0.0000000e+00 0.0000000e+00 0.0000000e+00 0.0000000e+00]\n",
            " [0.0000000e+00 9.9047965e-01 0.0000000e+00 0.0000000e+00 9.4764874e-10\n",
            "  9.9239492e-28 1.2904275e-34 6.6967276e-10 9.5202914e-03 0.0000000e+00]\n",
            " [0.0000000e+00 0.0000000e+00 0.0000000e+00 0.0000000e+00 1.0000000e+00\n",
            "  0.0000000e+00 0.0000000e+00 0.0000000e+00 0.0000000e+00 3.2522109e-18]\n",
            " [0.0000000e+00 0.0000000e+00 0.0000000e+00 0.0000000e+00 9.1227553e-33\n",
            "  0.0000000e+00 0.0000000e+00 0.0000000e+00 0.0000000e+00 1.0000000e+00]\n",
            " [0.0000000e+00 0.0000000e+00 0.0000000e+00 0.0000000e+00 0.0000000e+00\n",
            "  3.3528870e-04 0.0000000e+00 0.0000000e+00 9.9966466e-01 0.0000000e+00]]\n",
            "[7 2 1 0 4 1 4 9 5]\n"
          ],
          "name": "stdout"
        }
      ]
    },
    {
      "cell_type": "code",
      "metadata": {
        "id": "If7AqUMF6ujg",
        "colab_type": "code",
        "colab": {}
      },
      "source": [
        "datagen_validator = ImageDataGenerator(featurewise_center=True, featurewise_std_normalization=True,)"
      ],
      "execution_count": 0,
      "outputs": []
    },
    {
      "cell_type": "code",
      "metadata": {
        "id": "d9vVAzdS57yL",
        "colab_type": "code",
        "colab": {}
      },
      "source": [
        "#Defining how the images should look like (Copied)\n",
        "def show_misclassified(X, Y_ohe, Y_pred, classes,\n",
        "                       columns=5, total=25,\n",
        "                       pick_randomly=True, image_size_multiplier=4):\n",
        "    y_true = np.argmax(Y_ohe, axis=1)\n",
        "    yp = np.argmax(Y_pred, axis=1)\n",
        "    misclassified = y_true != yp\n",
        "    X = X[misclassified]\n",
        "    Y_ohe = Y_ohe[misclassified]\n",
        "    Y_pred = Y_pred[misclassified]\n",
        "    y_true = y_true[misclassified]\n",
        "    yp = yp[misclassified]\n",
        "    total = min(total, len(X))\n",
        "    rows = int(np.ceil(total / columns))\n",
        "\n",
        "    indexes = np.random.choice(len(X), total, replace=False) if pick_randomly else list(range(0, total))\n",
        "\n",
        "    X = np.take(X, indexes, axis=0)\n",
        "    Y_ohe = np.take(Y_ohe, indexes, axis=0)\n",
        "    Y_pred = np.take(Y_pred, indexes, axis=0)\n",
        "    y_true = np.take(y_true, indexes, axis=0)\n",
        "    yp = np.take(yp, indexes, axis=0)\n",
        "\n",
        "    fig_height = rows * image_size_multiplier * 2\n",
        "    fig_width = columns * image_size_multiplier\n",
        "\n",
        "    fig = plt.figure(figsize=(fig_width, fig_height))\n",
        "    idx1 = 0\n",
        "    idx2 = 0\n",
        "    jdx = 0\n",
        "    for row in range(rows):\n",
        "        for column in range(columns):\n",
        "            if idx1 >= len(X):\n",
        "                break\n",
        "            img = X[idx1]\n",
        "            assert (len(img.shape) == 3 and img.shape[2] in [1, 3, 4]) or len(img.shape) == 2\n",
        "            ax = fig.add_subplot(rows * 2, columns, jdx + 1, xticks=[], yticks=[])\n",
        "            cmap = None\n",
        "            if (len(img.shape) == 3 and img.shape[2] == 1) or len(img.shape) == 2:\n",
        "                cmap = \"binary\"\n",
        "            if len(img.shape) == 3 and img.shape[2] == 1:\n",
        "                img = img.reshape((img.shape[0], img.shape[1]))\n",
        "            ax.imshow(img, cmap=cmap)\n",
        "            ax.set_title(\"Predicted = %s, Actual = %s\" % (classes[yp[idx1]], classes[y_true[idx1]]))\n",
        "            idx1 += 1\n",
        "            jdx += 1\n",
        "\n",
        "        for column in range(columns):\n",
        "            if idx2 >= len(Y_pred):\n",
        "                break\n",
        "            yps = Y_pred[idx2]\n",
        "            ax = fig.add_subplot(rows * 2, columns, jdx + 1, xticks=[], yticks=[])\n",
        "            ind = np.arange(len(classes))\n",
        "            rects = ax.bar(ind, yps, 0.25, label='Labels')\n",
        "            ax.set_ylabel('Probability')\n",
        "            ax.set_yticks(np.arange(0, 1.2, 0.2))\n",
        "            ax.set_title('Probability vs Labels')\n",
        "            ax.set_xticks(ind)\n",
        "            ax.set_xticklabels(classes)\n",
        "            ax.legend()\n",
        "            idx2 += 1\n",
        "            jdx += 1\n",
        "    plt.show()\n"
      ],
      "execution_count": 0,
      "outputs": []
    },
    {
      "cell_type": "code",
      "metadata": {
        "id": "QKjHwBVY6c6g",
        "colab_type": "code",
        "colab": {
          "base_uri": "https://localhost:8080/",
          "height": 2238
        },
        "outputId": "7343b413-f5da-4fa7-e706-829e3a057882"
      },
      "source": [
        "#plotting images aswell as its labels and a probalility graph from the model output\n",
        "show_misclassified(X_test, Y_test, y_pred[:len(Y_test)], classes=list(range(0,10)), \n",
        "                       columns=5, total=25, \n",
        "                       pick_randomly=True, image_size_multiplier=4)"
      ],
      "execution_count": 102,
      "outputs": [
        {
          "output_type": "display_data",
          "data": {
            "image/png": "[encoded data removed]",
            "text/plain": [
              "<Figure size 1440x2880 with 50 Axes>"
            ]
          },
          "metadata": {
            "tags": []
          }
        }
      ]
    },
    {
      "cell_type": "code",
      "metadata": {
        "id": "9tvptcn8dxvp",
        "colab_type": "code",
        "outputId": "35ecdab4-e6bc-4315-8d10-489b0846de56",
        "colab": {
          "base_uri": "https://localhost:8080/",
          "height": 316
        }
      },
      "source": [
        "import numpy as np\n",
        "from matplotlib import pyplot as plt\n",
        "from keras import backend as K\n",
        "%matplotlib inline\n",
        "# util function to convert a tensor into a valid image\n",
        "def deprocess_image(x):\n",
        "    # normalize tensor: center on 0., ensure std is 0.1\n",
        "    x -= x.mean()\n",
        "    x /= (x.std() + 1e-5)\n",
        "    x *= 0.1\n",
        "\n",
        "    # clip to [0, 1]\n",
        "    x += 0.5\n",
        "    x = np.clip(x, 0, 1)\n",
        "\n",
        "    # convert to RGB array\n",
        "    x *= 255\n",
        "    #x = x.transpose((1, 2, 0))\n",
        "    x = np.clip(x, 0, 255).astype('uint8')\n",
        "    return x\n",
        "\n",
        "def vis_img_in_filter(img = np.array(X_train[2]).reshape((1, 28, 28, 1)).astype(np.float64), \n",
        "                      layer_name = 'conv2d_125'):\n",
        "    layer_output = layer_dict[layer_name].output\n",
        "    img_ascs = list()\n",
        "    for filter_index in range(layer_output.shape[3]):\n",
        "        # build a loss function that maximizes the activation\n",
        "        # of the nth filter of the layer considered\n",
        "        loss = K.mean(layer_output[:, :, :, filter_index])\n",
        "\n",
        "        # compute the gradient of the input picture wrt this loss\n",
        "        grads = K.gradients(loss, model1.input)[0]\n",
        "\n",
        "        # normalization trick: we normalize the gradient\n",
        "        grads /= (K.sqrt(K.mean(K.square(grads))) + 1e-5)\n",
        "\n",
        "        # this function returns the loss and grads given the input picture\n",
        "        iterate = K.function([model1.input], [loss, grads])\n",
        "\n",
        "        # step size for gradient ascent\n",
        "        step = 5.\n",
        "\n",
        "        img_asc = np.array(img)\n",
        "        # run gradient ascent for 20 steps\n",
        "        for i in range(20):\n",
        "            loss_value, grads_value = iterate([img_asc])\n",
        "            img_asc += grads_value * step\n",
        "\n",
        "        img_asc = img_asc[0]\n",
        "        img_ascs.append(deprocess_image(img_asc).reshape((28, 28)))\n",
        "        \n",
        "    if layer_output.shape[3] >= 35:\n",
        "        plot_x, plot_y = 6, 6\n",
        "    elif layer_output.shape[3] >= 23:\n",
        "        plot_x, plot_y = 4, 6\n",
        "    elif layer_output.shape[3] >= 11:\n",
        "        plot_x, plot_y = 2, 6\n",
        "    else:\n",
        "        plot_x, plot_y = 1, 2\n",
        "    fig, ax = plt.subplots(plot_x, plot_y, figsize = (12, 12))\n",
        "    ax[0, 0].imshow(img.reshape((28, 28)), cmap = 'gray')\n",
        "    ax[0, 0].set_title('Input image')\n",
        "    fig.suptitle('Input image and %s filters' % (layer_name,))\n",
        "    fig.tight_layout(pad = 0.3, rect = [0, 0, 0.9, 0.9])\n",
        "    for (x, y) in [(i, j) for i in range(plot_x) for j in range(plot_y)]:\n",
        "        if x == 0 and y == 0:\n",
        "            continue\n",
        "        ax[x, y].imshow(img_ascs[x * plot_y + y - 1], cmap = 'gray')\n",
        "        ax[x, y].set_title('filter %d' % (x * plot_y + y - 1))\n",
        "\n",
        "vis_img_in_filter()"
      ],
      "execution_count": 103,
      "outputs": [
        {
          "output_type": "error",
          "ename": "NameError",
          "evalue": "ignored",
          "traceback": [
            "\u001b[0;31m---------------------------------------------------------------------------\u001b[0m",
            "\u001b[0;31mNameError\u001b[0m                                 Traceback (most recent call last)",
            "\u001b[0;32m<ipython-input-103-02827c0b895b>\u001b[0m in \u001b[0;36m<module>\u001b[0;34m()\u001b[0m\n\u001b[1;32m     69\u001b[0m         \u001b[0max\u001b[0m\u001b[0;34m[\u001b[0m\u001b[0mx\u001b[0m\u001b[0;34m,\u001b[0m \u001b[0my\u001b[0m\u001b[0;34m]\u001b[0m\u001b[0;34m.\u001b[0m\u001b[0mset_title\u001b[0m\u001b[0;34m(\u001b[0m\u001b[0;34m'filter %d'\u001b[0m \u001b[0;34m%\u001b[0m \u001b[0;34m(\u001b[0m\u001b[0mx\u001b[0m \u001b[0;34m*\u001b[0m \u001b[0mplot_y\u001b[0m \u001b[0;34m+\u001b[0m \u001b[0my\u001b[0m \u001b[0;34m-\u001b[0m \u001b[0;36m1\u001b[0m\u001b[0;34m)\u001b[0m\u001b[0;34m)\u001b[0m\u001b[0;34m\u001b[0m\u001b[0;34m\u001b[0m\u001b[0m\n\u001b[1;32m     70\u001b[0m \u001b[0;34m\u001b[0m\u001b[0m\n\u001b[0;32m---> 71\u001b[0;31m \u001b[0mvis_img_in_filter\u001b[0m\u001b[0;34m(\u001b[0m\u001b[0;34m)\u001b[0m\u001b[0;34m\u001b[0m\u001b[0;34m\u001b[0m\u001b[0m\n\u001b[0m",
            "\u001b[0;32m<ipython-input-103-02827c0b895b>\u001b[0m in \u001b[0;36mvis_img_in_filter\u001b[0;34m(img, layer_name)\u001b[0m\n\u001b[1;32m     22\u001b[0m def vis_img_in_filter(img = np.array(X_train[2]).reshape((1, 28, 28, 1)).astype(np.float64), \n\u001b[1;32m     23\u001b[0m                       layer_name = 'conv2d_125'):\n\u001b[0;32m---> 24\u001b[0;31m     \u001b[0mlayer_output\u001b[0m \u001b[0;34m=\u001b[0m \u001b[0mlayer_dict\u001b[0m\u001b[0;34m[\u001b[0m\u001b[0mlayer_name\u001b[0m\u001b[0;34m]\u001b[0m\u001b[0;34m.\u001b[0m\u001b[0moutput\u001b[0m\u001b[0;34m\u001b[0m\u001b[0;34m\u001b[0m\u001b[0m\n\u001b[0m\u001b[1;32m     25\u001b[0m     \u001b[0mimg_ascs\u001b[0m \u001b[0;34m=\u001b[0m \u001b[0mlist\u001b[0m\u001b[0;34m(\u001b[0m\u001b[0;34m)\u001b[0m\u001b[0;34m\u001b[0m\u001b[0;34m\u001b[0m\u001b[0m\n\u001b[1;32m     26\u001b[0m     \u001b[0;32mfor\u001b[0m \u001b[0mfilter_index\u001b[0m \u001b[0;32min\u001b[0m \u001b[0mrange\u001b[0m\u001b[0;34m(\u001b[0m\u001b[0mlayer_output\u001b[0m\u001b[0;34m.\u001b[0m\u001b[0mshape\u001b[0m\u001b[0;34m[\u001b[0m\u001b[0;36m3\u001b[0m\u001b[0;34m]\u001b[0m\u001b[0;34m)\u001b[0m\u001b[0;34m:\u001b[0m\u001b[0;34m\u001b[0m\u001b[0;34m\u001b[0m\u001b[0m\n",
            "\u001b[0;31mNameError\u001b[0m: name 'layer_dict' is not defined"
          ]
        }
      ]
    },
    {
      "cell_type": "code",
      "metadata": {
        "id": "VriFbAfNJxB4",
        "colab_type": "code",
        "colab": {}
      },
      "source": [
        ""
      ],
      "execution_count": 0,
      "outputs": []
    }
  ]
}