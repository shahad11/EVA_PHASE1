{
  "nbformat": 4,
  "nbformat_minor": 0,
  "metadata": {
    "colab": {
      "name": "Assignment5.ipynb",
      "version": "0.3.2",
      "provenance": [],
      "collapsed_sections": []
    },
    "kernelspec": {
      "name": "python3",
      "display_name": "Python 3"
    },
    "accelerator": "GPU"
  },
  "cells": [
    {
      "cell_type": "markdown",
      "metadata": {
        "id": "aNyZv-Ec52ot",
        "colab_type": "text"
      },
      "source": [
        "# **Importing Libraries**"
      ]
    },
    {
      "cell_type": "markdown",
      "metadata": {
        "id": "L-pKsfOYAyF8",
        "colab_type": "text"
      },
      "source": [
        "#### Installing keras library using pip"
      ]
    },
    {
      "cell_type": "code",
      "metadata": {
        "id": "3m3w1Cw49Zkt",
        "colab_type": "code",
        "colab": {}
      },
      "source": [
        "# https://keras.io/\n",
        "!pip install -q keras\n",
        "import keras"
      ],
      "execution_count": 0,
      "outputs": []
    },
    {
      "cell_type": "markdown",
      "metadata": {
        "id": "zOWINHDqBXB7",
        "colab_type": "text"
      },
      "source": [
        "#### Importing libraries needed for convolutions and mnist dataset"
      ]
    },
    {
      "cell_type": "code",
      "metadata": {
        "id": "Eso6UHE080D4",
        "colab_type": "code",
        "colab": {}
      },
      "source": [
        "import numpy as np\n",
        "\n",
        "from keras.models import Sequential\n",
        "from keras.layers import Dense, Dropout, Activation, Flatten, Add\n",
        "from keras.layers import Convolution2D, MaxPooling2D\n",
        "from keras.utils import np_utils\n",
        "from keras.regularizers import l2\n",
        "from keras.datasets import mnist"
      ],
      "execution_count": 0,
      "outputs": []
    },
    {
      "cell_type": "markdown",
      "metadata": {
        "id": "zByEi95J86RD",
        "colab_type": "text"
      },
      "source": [
        "### Load pre-shuffled MNIST data into train and test sets"
      ]
    },
    {
      "cell_type": "code",
      "metadata": {
        "id": "7eRM0QWN83PV",
        "colab_type": "code",
        "colab": {}
      },
      "source": [
        "(X_train, y_train), (X_test, y_test) = mnist.load_data()"
      ],
      "execution_count": 0,
      "outputs": []
    },
    {
      "cell_type": "markdown",
      "metadata": {
        "id": "ejwvzfGqBoLz",
        "colab_type": "text"
      },
      "source": [
        "#### Plotting the Image "
      ]
    },
    {
      "cell_type": "code",
      "metadata": {
        "id": "4a4Be72j8-ZC",
        "colab_type": "code",
        "outputId": "e1866255-fb83-487c-f951-5d487a898e9b",
        "colab": {
          "base_uri": "https://localhost:8080/",
          "height": 303
        }
      },
      "source": [
        "print (X_train.shape)\n",
        "from matplotlib import pyplot as plt\n",
        "%matplotlib inline\n",
        "plt.imshow(X_train[1000])"
      ],
      "execution_count": 106,
      "outputs": [
        {
          "output_type": "stream",
          "text": [
            "(60000, 28, 28)\n"
          ],
          "name": "stdout"
        },
        {
          "output_type": "execute_result",
          "data": {
            "text/plain": [
              "<matplotlib.image.AxesImage at 0x7f62d595cd30>"
            ]
          },
          "metadata": {
            "tags": []
          },
          "execution_count": 106
        },
        {
          "output_type": "display_data",
          "data": {
            "image/png": "[encoded data removed]",
            "text/plain": [
              "<Figure size 432x288 with 1 Axes>"
            ]
          },
          "metadata": {
            "tags": []
          }
        }
      ]
    },
    {
      "cell_type": "markdown",
      "metadata": {
        "id": "V8vPDrAMCSCL",
        "colab_type": "text"
      },
      "source": [
        "#### Reshaping the Image into required format"
      ]
    },
    {
      "cell_type": "code",
      "metadata": {
        "id": "dkmprriw9AnZ",
        "colab_type": "code",
        "colab": {}
      },
      "source": [
        "X_train = X_train.reshape(X_train.shape[0], 28, 28,1)\n",
        "X_test = X_test.reshape(X_test.shape[0], 28, 28,1)"
      ],
      "execution_count": 0,
      "outputs": []
    },
    {
      "cell_type": "markdown",
      "metadata": {
        "id": "T26lfnupCbpB",
        "colab_type": "text"
      },
      "source": [
        "#### Converting train and test data into float and normalizing the data"
      ]
    },
    {
      "cell_type": "code",
      "metadata": {
        "id": "X2m4YS4E9CRh",
        "colab_type": "code",
        "colab": {}
      },
      "source": [
        "X_train = X_train.astype('float32')\n",
        "X_test = X_test.astype('float32')\n"
      ],
      "execution_count": 0,
      "outputs": []
    },
    {
      "cell_type": "markdown",
      "metadata": {
        "id": "eb1I7LFYCkaC",
        "colab_type": "text"
      },
      "source": [
        "#### seeing the first 10 training labels"
      ]
    },
    {
      "cell_type": "code",
      "metadata": {
        "id": "0Mn0vAYD9DvB",
        "colab_type": "code",
        "outputId": "379c3626-0e5d-4d21-ca63-1088ecbd1def",
        "colab": {
          "base_uri": "https://localhost:8080/",
          "height": 34
        }
      },
      "source": [
        "y_train[:10]"
      ],
      "execution_count": 109,
      "outputs": [
        {
          "output_type": "execute_result",
          "data": {
            "text/plain": [
              "array([5, 0, 4, 1, 9, 2, 1, 3, 1, 4], dtype=uint8)"
            ]
          },
          "metadata": {
            "tags": []
          },
          "execution_count": 109
        }
      ]
    },
    {
      "cell_type": "markdown",
      "metadata": {
        "id": "2kMH8_0SCvn6",
        "colab_type": "text"
      },
      "source": [
        ""
      ]
    },
    {
      "cell_type": "markdown",
      "metadata": {
        "id": "-6997wl7C3yE",
        "colab_type": "text"
      },
      "source": [
        "####  Convert 1-dimensional class arrays to 10-dimensional class matrices"
      ]
    },
    {
      "cell_type": "code",
      "metadata": {
        "id": "ZG8JiXR39FHC",
        "colab_type": "code",
        "colab": {}
      },
      "source": [
        "# Convert 1-dimensional class arrays to 10-dimensional class matrices\n",
        "Y_train = np_utils.to_categorical(y_train, 10)\n",
        "Y_test = np_utils.to_categorical(y_test, 10)"
      ],
      "execution_count": 0,
      "outputs": []
    },
    {
      "cell_type": "markdown",
      "metadata": {
        "id": "Oh9qpCzjDV7U",
        "colab_type": "text"
      },
      "source": [
        "#### Checking the training labels after converting them to 10-dimensional class matrices."
      ]
    },
    {
      "cell_type": "code",
      "metadata": {
        "id": "fYlFRvKS9HMB",
        "colab_type": "code",
        "outputId": "b8eb4dbd-b7ee-4ad9-a072-fe4dbb43f1f0",
        "colab": {
          "base_uri": "https://localhost:8080/",
          "height": 187
        }
      },
      "source": [
        "Y_train[:10]\n"
      ],
      "execution_count": 111,
      "outputs": [
        {
          "output_type": "execute_result",
          "data": {
            "text/plain": [
              "array([[0., 0., 0., 0., 0., 1., 0., 0., 0., 0.],\n",
              "       [1., 0., 0., 0., 0., 0., 0., 0., 0., 0.],\n",
              "       [0., 0., 0., 0., 1., 0., 0., 0., 0., 0.],\n",
              "       [0., 1., 0., 0., 0., 0., 0., 0., 0., 0.],\n",
              "       [0., 0., 0., 0., 0., 0., 0., 0., 0., 1.],\n",
              "       [0., 0., 1., 0., 0., 0., 0., 0., 0., 0.],\n",
              "       [0., 1., 0., 0., 0., 0., 0., 0., 0., 0.],\n",
              "       [0., 0., 0., 1., 0., 0., 0., 0., 0., 0.],\n",
              "       [0., 1., 0., 0., 0., 0., 0., 0., 0., 0.],\n",
              "       [0., 0., 0., 0., 1., 0., 0., 0., 0., 0.]], dtype=float32)"
            ]
          },
          "metadata": {
            "tags": []
          },
          "execution_count": 111
        }
      ]
    },
    {
      "cell_type": "markdown",
      "metadata": {
        "id": "79D-tLGHDjKF",
        "colab_type": "text"
      },
      "source": [
        "#### Importing the required operators for convolutions"
      ]
    },
    {
      "cell_type": "code",
      "metadata": {
        "id": "0dB_qhIs6Ax5",
        "colab_type": "code",
        "colab": {}
      },
      "source": [
        "from keras.layers import Conv2D, MaxPooling2D,BatchNormalization,Flatten,GlobalAveragePooling2D,Dropout"
      ],
      "execution_count": 0,
      "outputs": []
    },
    {
      "cell_type": "code",
      "metadata": {
        "id": "v9umOAl4KiZe",
        "colab_type": "code",
        "colab": {
          "base_uri": "https://localhost:8080/",
          "height": 51
        },
        "outputId": "9004a6d0-9570-466c-8db5-7e14efc64063"
      },
      "source": [
        "\n",
        "# confirm scale of pixels\n",
        "print('Train min=%.3f, max=%.3f' % (X_train.min(), X_train.max()))\n",
        "print('Test min=%.3f, max=%.3f' % (X_train.min(), X_test.max()))\n"
      ],
      "execution_count": 113,
      "outputs": [
        {
          "output_type": "stream",
          "text": [
            "Train min=0.000, max=255.000\n",
            "Test min=0.000, max=255.000\n"
          ],
          "name": "stdout"
        }
      ]
    },
    {
      "cell_type": "code",
      "metadata": {
        "id": "tTR-qORCtA8V",
        "colab_type": "code",
        "colab": {
          "base_uri": "https://localhost:8080/",
          "height": 34
        },
        "outputId": "a3f66e3f-5715-4521-c75b-734735cbe109"
      },
      "source": [
        "y_test"
      ],
      "execution_count": 114,
      "outputs": [
        {
          "output_type": "execute_result",
          "data": {
            "text/plain": [
              "array([7, 2, 1, ..., 4, 5, 6], dtype=uint8)"
            ]
          },
          "metadata": {
            "tags": []
          },
          "execution_count": 114
        }
      ]
    },
    {
      "cell_type": "code",
      "metadata": {
        "id": "mET5w43yrayX",
        "colab_type": "code",
        "colab": {}
      },
      "source": [
        "from keras.preprocessing.image import ImageDataGenerator"
      ],
      "execution_count": 0,
      "outputs": []
    },
    {
      "cell_type": "code",
      "metadata": {
        "id": "o0Fecmv5iwZG",
        "colab_type": "code",
        "colab": {
          "base_uri": "https://localhost:8080/",
          "height": 51
        },
        "outputId": "69457ac8-dbe0-4a92-e06f-fdd01e954a59"
      },
      "source": [
        "#proper explanation of usage of Image data generator(both batch normalization and data augmentation):-https://keras.io/preprocessing/image/\n",
        "datagen = ImageDataGenerator(featurewise_center=True, featurewise_std_normalization=True)\n",
        "\n",
        "# calculate mean on training dataset\n",
        "datagen.fit(X_train)\n",
        "\n",
        "# preparing an iterators to scale images\n",
        "train_iterator = datagen.flow(X_train, Y_train, batch_size=128)\n",
        "test_iterator = datagen.flow(X_test, Y_test, batch_size=128)\n",
        "print('Batches train=%d, test=%d' % (len(train_iterator), len(test_iterator)))\n",
        "\n",
        "# checking the shape\n",
        "batchX, batchy = train_iterator.next()\n",
        "print('Batch shape=%s, min=%.3f, max=%.3f' % (batchX.shape, batchX.min(), batchX.max()))\n"
      ],
      "execution_count": 116,
      "outputs": [
        {
          "output_type": "stream",
          "text": [
            "Batches train=469, test=79\n",
            "Batch shape=(128, 28, 28, 1), min=-0.424, max=2.822\n"
          ],
          "name": "stdout"
        }
      ]
    },
    {
      "cell_type": "markdown",
      "metadata": {
        "id": "ytmE9H32D2zG",
        "colab_type": "text"
      },
      "source": [
        "# Neural Network Model"
      ]
    },
    {
      "cell_type": "code",
      "metadata": {
        "id": "NWLWWuoUWxsX",
        "colab_type": "code",
        "outputId": "3d6a765e-251b-4084-ee4f-15d141b8b16f",
        "colab": {
          "base_uri": "https://localhost:8080/",
          "height": 224
        }
      },
      "source": [
        "\n",
        "\n",
        "model1 = Sequential()\n",
        "model1.add(Convolution2D(8,3,3,input_shape=(28,28,1),kernel_regularizer=l2(0.0001),bias_regularizer = l2(0.0001))) #(3*3,26*26)\n",
        "model1.add(BatchNormalization(axis=3))\n",
        "model1.add(Activation('relu'))\n",
        "model1.add(Dropout(0.1))\n",
        "\n",
        "\n",
        "model1.add(Convolution2D(10,3,3,kernel_regularizer=l2(0.0001),bias_regularizer = l2(0.0001))) #(5*5,24*24)\n",
        "model1.add(BatchNormalization(axis=3))\n",
        "model1.add(Activation('relu'))\n",
        "model1.add(Dropout(0.1))\n",
        "\n",
        "\n",
        "model1.add(Convolution2D(32,3,3,kernel_regularizer=l2(0.0001),bias_regularizer = l2(0.0001))) #(7*7,22*22)\n",
        "model1.add(BatchNormalization(axis=3))\n",
        "model1.add(Activation('relu'))\n",
        "model1.add(Dropout(0.1))\n",
        "\n",
        "\n",
        "model1.add(Convolution2D(8,1,1,kernel_regularizer=l2(0.0001),bias_regularizer = l2(0.0001))) #(7*7,22*22)\n",
        "model1.add(BatchNormalization(axis=3))\n",
        "model1.add(Activation('relu'))\n",
        "model1.add(MaxPooling2D(pool_size=(2,2))) #(14*14,11*11)\n",
        "\n",
        "\n",
        "model1.add(Convolution2D(10,3,3,kernel_regularizer=l2(0.0001),bias_regularizer = l2(0.0001))) #(16*16,9*9)\n",
        "model1.add(BatchNormalization(axis=3))\n",
        "model1.add(Activation('relu'))\n",
        "model1.add(Dropout(0.1))\n",
        "\n",
        "\n",
        "model1.add(Convolution2D(32,3,3,kernel_regularizer=l2(0.0001),bias_regularizer = l2(0.0001))) #(18*18,7*7)\n",
        "model1.add(BatchNormalization(axis=3))\n",
        "model1.add(Activation('relu'))\n",
        "model1.add(Dropout(0.1))\n",
        "\n",
        "model1.add(Convolution2D(10,1,1,kernel_regularizer=l2(0.0001),bias_regularizer = l2(0.0001))) #(18*18,7*7)\n",
        "model1.add(BatchNormalization(axis=3))\n",
        "model1.add(Activation('relu'))\n",
        "model1.add(Dropout(0.1))\n",
        "\n",
        "\n",
        "model1.add(Convolution2D(10,7,7,kernel_regularizer=l2(0.0001),bias_regularizer = l2(0.0001))) #(24*24,10*1*1)\n",
        "#final activation as softmax.\n",
        "model1.add(Flatten())\n",
        "model1.add(Activation('softmax'))"
      ],
      "execution_count": 117,
      "outputs": [
        {
          "output_type": "stream",
          "text": [
            "/usr/local/lib/python3.6/dist-packages/ipykernel_launcher.py:3: UserWarning: Update your `Conv2D` call to the Keras 2 API: `Conv2D(8, (3, 3), input_shape=(28, 28, 1..., kernel_regularizer=<keras.reg..., bias_regularizer=<keras.reg...)`\n",
            "  This is separate from the ipykernel package so we can avoid doing imports until\n",
            "/usr/local/lib/python3.6/dist-packages/ipykernel_launcher.py:9: UserWarning: Update your `Conv2D` call to the Keras 2 API: `Conv2D(10, (3, 3), kernel_regularizer=<keras.reg..., bias_regularizer=<keras.reg...)`\n",
            "  if __name__ == '__main__':\n",
            "/usr/local/lib/python3.6/dist-packages/ipykernel_launcher.py:15: UserWarning: Update your `Conv2D` call to the Keras 2 API: `Conv2D(32, (3, 3), kernel_regularizer=<keras.reg..., bias_regularizer=<keras.reg...)`\n",
            "  from ipykernel import kernelapp as app\n",
            "/usr/local/lib/python3.6/dist-packages/ipykernel_launcher.py:21: UserWarning: Update your `Conv2D` call to the Keras 2 API: `Conv2D(8, (1, 1), kernel_regularizer=<keras.reg..., bias_regularizer=<keras.reg...)`\n",
            "/usr/local/lib/python3.6/dist-packages/ipykernel_launcher.py:27: UserWarning: Update your `Conv2D` call to the Keras 2 API: `Conv2D(10, (3, 3), kernel_regularizer=<keras.reg..., bias_regularizer=<keras.reg...)`\n",
            "/usr/local/lib/python3.6/dist-packages/ipykernel_launcher.py:33: UserWarning: Update your `Conv2D` call to the Keras 2 API: `Conv2D(32, (3, 3), kernel_regularizer=<keras.reg..., bias_regularizer=<keras.reg...)`\n",
            "/usr/local/lib/python3.6/dist-packages/ipykernel_launcher.py:38: UserWarning: Update your `Conv2D` call to the Keras 2 API: `Conv2D(10, (1, 1), kernel_regularizer=<keras.reg..., bias_regularizer=<keras.reg...)`\n",
            "/usr/local/lib/python3.6/dist-packages/ipykernel_launcher.py:44: UserWarning: Update your `Conv2D` call to the Keras 2 API: `Conv2D(10, (7, 7), kernel_regularizer=<keras.reg..., bias_regularizer=<keras.reg...)`\n"
          ],
          "name": "stderr"
        }
      ]
    },
    {
      "cell_type": "markdown",
      "metadata": {
        "id": "4qwYy1PWF93v",
        "colab_type": "text"
      },
      "source": [
        "#### Printing the summary of the model"
      ]
    },
    {
      "cell_type": "code",
      "metadata": {
        "id": "AYCUgb3_XdwU",
        "colab_type": "code",
        "outputId": "f0fbd9cd-2c43-439a-e6fe-46799943521e",
        "colab": {
          "base_uri": "https://localhost:8080/",
          "height": 1190
        }
      },
      "source": [
        "model1.summary()"
      ],
      "execution_count": 118,
      "outputs": [
        {
          "output_type": "stream",
          "text": [
            "_________________________________________________________________\n",
            "Layer (type)                 Output Shape              Param #   \n",
            "=================================================================\n",
            "conv2d_41 (Conv2D)           (None, 26, 26, 8)         80        \n",
            "_________________________________________________________________\n",
            "batch_normalization_36 (Batc (None, 26, 26, 8)         32        \n",
            "_________________________________________________________________\n",
            "activation_41 (Activation)   (None, 26, 26, 8)         0         \n",
            "_________________________________________________________________\n",
            "dropout_31 (Dropout)         (None, 26, 26, 8)         0         \n",
            "_________________________________________________________________\n",
            "conv2d_42 (Conv2D)           (None, 24, 24, 10)        730       \n",
            "_________________________________________________________________\n",
            "batch_normalization_37 (Batc (None, 24, 24, 10)        40        \n",
            "_________________________________________________________________\n",
            "activation_42 (Activation)   (None, 24, 24, 10)        0         \n",
            "_________________________________________________________________\n",
            "dropout_32 (Dropout)         (None, 24, 24, 10)        0         \n",
            "_________________________________________________________________\n",
            "conv2d_43 (Conv2D)           (None, 22, 22, 32)        2912      \n",
            "_________________________________________________________________\n",
            "batch_normalization_38 (Batc (None, 22, 22, 32)        128       \n",
            "_________________________________________________________________\n",
            "activation_43 (Activation)   (None, 22, 22, 32)        0         \n",
            "_________________________________________________________________\n",
            "dropout_33 (Dropout)         (None, 22, 22, 32)        0         \n",
            "_________________________________________________________________\n",
            "conv2d_44 (Conv2D)           (None, 22, 22, 8)         264       \n",
            "_________________________________________________________________\n",
            "batch_normalization_39 (Batc (None, 22, 22, 8)         32        \n",
            "_________________________________________________________________\n",
            "activation_44 (Activation)   (None, 22, 22, 8)         0         \n",
            "_________________________________________________________________\n",
            "max_pooling2d_6 (MaxPooling2 (None, 11, 11, 8)         0         \n",
            "_________________________________________________________________\n",
            "conv2d_45 (Conv2D)           (None, 9, 9, 10)          730       \n",
            "_________________________________________________________________\n",
            "batch_normalization_40 (Batc (None, 9, 9, 10)          40        \n",
            "_________________________________________________________________\n",
            "activation_45 (Activation)   (None, 9, 9, 10)          0         \n",
            "_________________________________________________________________\n",
            "dropout_34 (Dropout)         (None, 9, 9, 10)          0         \n",
            "_________________________________________________________________\n",
            "conv2d_46 (Conv2D)           (None, 7, 7, 32)          2912      \n",
            "_________________________________________________________________\n",
            "batch_normalization_41 (Batc (None, 7, 7, 32)          128       \n",
            "_________________________________________________________________\n",
            "activation_46 (Activation)   (None, 7, 7, 32)          0         \n",
            "_________________________________________________________________\n",
            "dropout_35 (Dropout)         (None, 7, 7, 32)          0         \n",
            "_________________________________________________________________\n",
            "conv2d_47 (Conv2D)           (None, 7, 7, 10)          330       \n",
            "_________________________________________________________________\n",
            "batch_normalization_42 (Batc (None, 7, 7, 10)          40        \n",
            "_________________________________________________________________\n",
            "activation_47 (Activation)   (None, 7, 7, 10)          0         \n",
            "_________________________________________________________________\n",
            "dropout_36 (Dropout)         (None, 7, 7, 10)          0         \n",
            "_________________________________________________________________\n",
            "conv2d_48 (Conv2D)           (None, 1, 1, 10)          4910      \n",
            "_________________________________________________________________\n",
            "flatten_6 (Flatten)          (None, 10)                0         \n",
            "_________________________________________________________________\n",
            "activation_48 (Activation)   (None, 10)                0         \n",
            "=================================================================\n",
            "Total params: 13,308\n",
            "Trainable params: 13,088\n",
            "Non-trainable params: 220\n",
            "_________________________________________________________________\n"
          ],
          "name": "stdout"
        }
      ]
    },
    {
      "cell_type": "markdown",
      "metadata": {
        "id": "vN6E5JKUGDEG",
        "colab_type": "text"
      },
      "source": [
        "#### Importing the Adam optimizer."
      ]
    },
    {
      "cell_type": "code",
      "metadata": {
        "id": "NIVT1VvHGdTn",
        "colab_type": "code",
        "colab": {}
      },
      "source": [
        "from keras.optimizers import Adam"
      ],
      "execution_count": 0,
      "outputs": []
    },
    {
      "cell_type": "code",
      "metadata": {
        "id": "8m1EMkWGaz84",
        "colab_type": "code",
        "colab": {}
      },
      "source": [
        "\n",
        "\n",
        "from keras.optimizers import Adam\n",
        "from keras.callbacks import LearningRateScheduler\n",
        "def scheduler(epoch, lr):\n",
        "  return round(0.003 * 1/(1 + 0.319 * epoch), 10)\n",
        "\n",
        "model1.compile(loss='categorical_crossentropy', optimizer=Adam(lr=0.003), metrics=['accuracy'])\n",
        "\n"
      ],
      "execution_count": 0,
      "outputs": []
    },
    {
      "cell_type": "code",
      "metadata": {
        "id": "ZmWDW1R_a7DF",
        "colab_type": "code",
        "colab": {}
      },
      "source": [
        "!pip install -U -q PyDrive\n",
        "from pydrive.auth import GoogleAuth\n",
        "from pydrive.drive import GoogleDrive\n",
        "from google.colab import auth\n",
        "from oauth2client.client import GoogleCredentials"
      ],
      "execution_count": 0,
      "outputs": []
    },
    {
      "cell_type": "code",
      "metadata": {
        "id": "2gnLu0oYbAUN",
        "colab_type": "code",
        "colab": {}
      },
      "source": [
        "from keras.callbacks import ModelCheckpoint"
      ],
      "execution_count": 0,
      "outputs": []
    },
    {
      "cell_type": "code",
      "metadata": {
        "id": "cvuDzI9ibB9E",
        "colab_type": "code",
        "colab": {}
      },
      "source": [
        "# checkpoint\n",
        "filepath=\"./Assignment5_03_06_2019-{epoch:02d}-{val_acc:.2f}.hdf5\"\n",
        "checkpoint = ModelCheckpoint(filepath, monitor='val_acc', verbose=1, save_best_only=True, mode='max')\n",
        "callbacks_list = [checkpoint,LearningRateScheduler(scheduler, verbose=1)]"
      ],
      "execution_count": 0,
      "outputs": []
    },
    {
      "cell_type": "code",
      "metadata": {
        "id": "cpCOy788dq5J",
        "colab_type": "code",
        "colab": {
          "base_uri": "https://localhost:8080/",
          "height": 34
        },
        "outputId": "156fb204-ca5e-479b-ce8e-4fe63ef96723"
      },
      "source": [
        "type(test_iterator.y)"
      ],
      "execution_count": 124,
      "outputs": [
        {
          "output_type": "execute_result",
          "data": {
            "text/plain": [
              "numpy.ndarray"
            ]
          },
          "metadata": {
            "tags": []
          },
          "execution_count": 124
        }
      ]
    },
    {
      "cell_type": "code",
      "metadata": {
        "id": "zIRhmhuUbB_q",
        "colab_type": "code",
        "colab": {
          "base_uri": "https://localhost:8080/",
          "height": 4114
        },
        "outputId": "edb30efc-6a20-4364-ec3f-a6b806d1065d"
      },
      "source": [
        "# fit model with generator\n",
        "model1.fit_generator(train_iterator, steps_per_epoch=len(train_iterator), epochs=40,callbacks=callbacks_list,validation_data=(test_iterator.x,test_iterator.y))"
      ],
      "execution_count": 125,
      "outputs": [
        {
          "output_type": "stream",
          "text": [
            "Epoch 1/40\n",
            "\n",
            "Epoch 00001: LearningRateScheduler setting learning rate to 0.003.\n",
            "469/469 [==============================] - 14s 30ms/step - loss: 0.2036 - acc: 0.9404 - val_loss: 12.4512 - val_acc: 0.2171\n",
            "\n",
            "Epoch 00001: val_acc improved from -inf to 0.21710, saving model to ./Assignment5_03_06_2019-01-0.22.hdf5\n",
            "Epoch 2/40\n",
            "\n",
            "Epoch 00002: LearningRateScheduler setting learning rate to 0.0022744503.\n",
            "469/469 [==============================] - 8s 17ms/step - loss: 0.0720 - acc: 0.9813 - val_loss: 6.9072 - val_acc: 0.5392\n",
            "\n",
            "Epoch 00002: val_acc improved from 0.21710 to 0.53920, saving model to ./Assignment5_03_06_2019-02-0.54.hdf5\n",
            "Epoch 3/40\n",
            "\n",
            "Epoch 00003: LearningRateScheduler setting learning rate to 0.0018315018.\n",
            "469/469 [==============================] - 8s 17ms/step - loss: 0.0628 - acc: 0.9845 - val_loss: 7.1931 - val_acc: 0.5311\n",
            "\n",
            "Epoch 00003: val_acc did not improve from 0.53920\n",
            "Epoch 4/40\n",
            "\n",
            "Epoch 00004: LearningRateScheduler setting learning rate to 0.0015329586.\n",
            "469/469 [==============================] - 8s 17ms/step - loss: 0.0563 - acc: 0.9866 - val_loss: 5.1622 - val_acc: 0.6540\n",
            "\n",
            "Epoch 00004: val_acc improved from 0.53920 to 0.65400, saving model to ./Assignment5_03_06_2019-04-0.65.hdf5\n",
            "Epoch 5/40\n",
            "\n",
            "Epoch 00005: LearningRateScheduler setting learning rate to 0.0013181019.\n",
            "469/469 [==============================] - 8s 17ms/step - loss: 0.0512 - acc: 0.9885 - val_loss: 4.2259 - val_acc: 0.7164\n",
            "\n",
            "Epoch 00005: val_acc improved from 0.65400 to 0.71640, saving model to ./Assignment5_03_06_2019-05-0.72.hdf5\n",
            "Epoch 6/40\n",
            "\n",
            "Epoch 00006: LearningRateScheduler setting learning rate to 0.0011560694.\n",
            "469/469 [==============================] - 8s 18ms/step - loss: 0.0491 - acc: 0.9886 - val_loss: 4.5931 - val_acc: 0.6920\n",
            "\n",
            "Epoch 00006: val_acc did not improve from 0.71640\n",
            "Epoch 7/40\n",
            "\n",
            "Epoch 00007: LearningRateScheduler setting learning rate to 0.0010295127.\n",
            "469/469 [==============================] - 8s 17ms/step - loss: 0.0461 - acc: 0.9892 - val_loss: 4.9568 - val_acc: 0.6739\n",
            "\n",
            "Epoch 00007: val_acc did not improve from 0.71640\n",
            "Epoch 8/40\n",
            "\n",
            "Epoch 00008: LearningRateScheduler setting learning rate to 0.0009279307.\n",
            "469/469 [==============================] - 8s 17ms/step - loss: 0.0441 - acc: 0.9901 - val_loss: 4.7779 - val_acc: 0.6822\n",
            "\n",
            "Epoch 00008: val_acc did not improve from 0.71640\n",
            "Epoch 9/40\n",
            "\n",
            "Epoch 00009: LearningRateScheduler setting learning rate to 0.0008445946.\n",
            "469/469 [==============================] - 8s 18ms/step - loss: 0.0419 - acc: 0.9908 - val_loss: 4.8300 - val_acc: 0.6811\n",
            "\n",
            "Epoch 00009: val_acc did not improve from 0.71640\n",
            "Epoch 10/40\n",
            "\n",
            "Epoch 00010: LearningRateScheduler setting learning rate to 0.0007749935.\n",
            "469/469 [==============================] - 8s 17ms/step - loss: 0.0421 - acc: 0.9905 - val_loss: 3.5753 - val_acc: 0.7580\n",
            "\n",
            "Epoch 00010: val_acc improved from 0.71640 to 0.75800, saving model to ./Assignment5_03_06_2019-10-0.76.hdf5\n",
            "Epoch 11/40\n",
            "\n",
            "Epoch 00011: LearningRateScheduler setting learning rate to 0.0007159905.\n",
            "469/469 [==============================] - 8s 17ms/step - loss: 0.0394 - acc: 0.9914 - val_loss: 4.0995 - val_acc: 0.7238\n",
            "\n",
            "Epoch 00011: val_acc did not improve from 0.75800\n",
            "Epoch 12/40\n",
            "\n",
            "Epoch 00012: LearningRateScheduler setting learning rate to 0.000665336.\n",
            "469/469 [==============================] - 8s 17ms/step - loss: 0.0376 - acc: 0.9919 - val_loss: 5.3149 - val_acc: 0.6461\n",
            "\n",
            "Epoch 00012: val_acc did not improve from 0.75800\n",
            "Epoch 13/40\n",
            "\n",
            "Epoch 00013: LearningRateScheduler setting learning rate to 0.0006213753.\n",
            "469/469 [==============================] - 8s 17ms/step - loss: 0.0368 - acc: 0.9921 - val_loss: 5.3551 - val_acc: 0.6446\n",
            "\n",
            "Epoch 00013: val_acc did not improve from 0.75800\n",
            "Epoch 14/40\n",
            "\n",
            "Epoch 00014: LearningRateScheduler setting learning rate to 0.0005828638.\n",
            "469/469 [==============================] - 8s 17ms/step - loss: 0.0365 - acc: 0.9924 - val_loss: 4.5760 - val_acc: 0.6909\n",
            "\n",
            "Epoch 00014: val_acc did not improve from 0.75800\n",
            "Epoch 15/40\n",
            "\n",
            "Epoch 00015: LearningRateScheduler setting learning rate to 0.0005488474.\n",
            "469/469 [==============================] - 8s 17ms/step - loss: 0.0351 - acc: 0.9925 - val_loss: 4.6508 - val_acc: 0.6847\n",
            "\n",
            "Epoch 00015: val_acc did not improve from 0.75800\n",
            "Epoch 16/40\n",
            "\n",
            "Epoch 00016: LearningRateScheduler setting learning rate to 0.0005185825.\n",
            "469/469 [==============================] - 8s 17ms/step - loss: 0.0352 - acc: 0.9927 - val_loss: 4.3901 - val_acc: 0.7008\n",
            "\n",
            "Epoch 00016: val_acc did not improve from 0.75800\n",
            "Epoch 17/40\n",
            "\n",
            "Epoch 00017: LearningRateScheduler setting learning rate to 0.000491481.\n",
            "469/469 [==============================] - 8s 18ms/step - loss: 0.0347 - acc: 0.9922 - val_loss: 4.6019 - val_acc: 0.6922\n",
            "\n",
            "Epoch 00017: val_acc did not improve from 0.75800\n",
            "Epoch 18/40\n",
            "\n",
            "Epoch 00018: LearningRateScheduler setting learning rate to 0.0004670715.\n",
            "469/469 [==============================] - 8s 17ms/step - loss: 0.0333 - acc: 0.9931 - val_loss: 5.5951 - val_acc: 0.6311\n",
            "\n",
            "Epoch 00018: val_acc did not improve from 0.75800\n",
            "Epoch 19/40\n",
            "\n",
            "Epoch 00019: LearningRateScheduler setting learning rate to 0.0004449718.\n",
            "469/469 [==============================] - 8s 17ms/step - loss: 0.0322 - acc: 0.9933 - val_loss: 4.7991 - val_acc: 0.6798\n",
            "\n",
            "Epoch 00019: val_acc did not improve from 0.75800\n",
            "Epoch 20/40\n",
            "\n",
            "Epoch 00020: LearningRateScheduler setting learning rate to 0.000424869.\n",
            "469/469 [==============================] - 8s 17ms/step - loss: 0.0321 - acc: 0.9936 - val_loss: 5.1458 - val_acc: 0.6567\n",
            "\n",
            "Epoch 00020: val_acc did not improve from 0.75800\n",
            "Epoch 21/40\n",
            "\n",
            "Epoch 00021: LearningRateScheduler setting learning rate to 0.0004065041.\n",
            "469/469 [==============================] - 8s 17ms/step - loss: 0.0314 - acc: 0.9937 - val_loss: 4.5758 - val_acc: 0.6883\n",
            "\n",
            "Epoch 00021: val_acc did not improve from 0.75800\n",
            "Epoch 22/40\n",
            "\n",
            "Epoch 00022: LearningRateScheduler setting learning rate to 0.000389661.\n",
            "469/469 [==============================] - 8s 17ms/step - loss: 0.0309 - acc: 0.9936 - val_loss: 4.7784 - val_acc: 0.6827\n",
            "\n",
            "Epoch 00022: val_acc did not improve from 0.75800\n",
            "Epoch 23/40\n",
            "\n",
            "Epoch 00023: LearningRateScheduler setting learning rate to 0.0003741581.\n",
            "469/469 [==============================] - 8s 17ms/step - loss: 0.0306 - acc: 0.9936 - val_loss: 4.6064 - val_acc: 0.6922\n",
            "\n",
            "Epoch 00023: val_acc did not improve from 0.75800\n",
            "Epoch 24/40\n",
            "\n",
            "Epoch 00024: LearningRateScheduler setting learning rate to 0.0003598417.\n",
            "469/469 [==============================] - 8s 17ms/step - loss: 0.0301 - acc: 0.9941 - val_loss: 4.9571 - val_acc: 0.6672\n",
            "\n",
            "Epoch 00024: val_acc did not improve from 0.75800\n",
            "Epoch 25/40\n",
            "\n",
            "Epoch 00025: LearningRateScheduler setting learning rate to 0.0003465804.\n",
            "469/469 [==============================] - 8s 17ms/step - loss: 0.0294 - acc: 0.9944 - val_loss: 4.4411 - val_acc: 0.7019\n",
            "\n",
            "Epoch 00025: val_acc did not improve from 0.75800\n",
            "Epoch 26/40\n",
            "\n",
            "Epoch 00026: LearningRateScheduler setting learning rate to 0.0003342618.\n",
            "469/469 [==============================] - 8s 17ms/step - loss: 0.0286 - acc: 0.9943 - val_loss: 3.9475 - val_acc: 0.7322\n",
            "\n",
            "Epoch 00026: val_acc did not improve from 0.75800\n",
            "Epoch 27/40\n",
            "\n",
            "Epoch 00027: LearningRateScheduler setting learning rate to 0.0003227889.\n",
            "469/469 [==============================] - 8s 17ms/step - loss: 0.0283 - acc: 0.9944 - val_loss: 3.9097 - val_acc: 0.7368\n",
            "\n",
            "Epoch 00027: val_acc did not improve from 0.75800\n",
            "Epoch 28/40\n",
            "\n",
            "Epoch 00028: LearningRateScheduler setting learning rate to 0.0003120774.\n",
            "469/469 [==============================] - 8s 17ms/step - loss: 0.0287 - acc: 0.9945 - val_loss: 3.5090 - val_acc: 0.7597\n",
            "\n",
            "Epoch 00028: val_acc improved from 0.75800 to 0.75970, saving model to ./Assignment5_03_06_2019-28-0.76.hdf5\n",
            "Epoch 29/40\n",
            "\n",
            "Epoch 00029: LearningRateScheduler setting learning rate to 0.000302054.\n",
            "469/469 [==============================] - 8s 17ms/step - loss: 0.0287 - acc: 0.9943 - val_loss: 4.4921 - val_acc: 0.6965\n",
            "\n",
            "Epoch 00029: val_acc did not improve from 0.75970\n",
            "Epoch 30/40\n",
            "\n",
            "Epoch 00030: LearningRateScheduler setting learning rate to 0.0002926544.\n",
            "469/469 [==============================] - 8s 17ms/step - loss: 0.0279 - acc: 0.9945 - val_loss: 3.9087 - val_acc: 0.7381\n",
            "\n",
            "Epoch 00030: val_acc did not improve from 0.75970\n",
            "Epoch 31/40\n",
            "\n",
            "Epoch 00031: LearningRateScheduler setting learning rate to 0.0002838221.\n",
            "469/469 [==============================] - 8s 17ms/step - loss: 0.0274 - acc: 0.9945 - val_loss: 4.0057 - val_acc: 0.7292\n",
            "\n",
            "Epoch 00031: val_acc did not improve from 0.75970\n",
            "Epoch 32/40\n",
            "\n",
            "Epoch 00032: LearningRateScheduler setting learning rate to 0.0002755074.\n",
            "469/469 [==============================] - 8s 17ms/step - loss: 0.0274 - acc: 0.9948 - val_loss: 4.0323 - val_acc: 0.7281\n",
            "\n",
            "Epoch 00032: val_acc did not improve from 0.75970\n",
            "Epoch 33/40\n",
            "\n",
            "Epoch 00033: LearningRateScheduler setting learning rate to 0.000267666.\n",
            "469/469 [==============================] - 8s 17ms/step - loss: 0.0271 - acc: 0.9945 - val_loss: 4.1119 - val_acc: 0.7244\n",
            "\n",
            "Epoch 00033: val_acc did not improve from 0.75970\n",
            "Epoch 34/40\n",
            "\n",
            "Epoch 00034: LearningRateScheduler setting learning rate to 0.0002602585.\n",
            "469/469 [==============================] - 8s 17ms/step - loss: 0.0266 - acc: 0.9947 - val_loss: 4.1599 - val_acc: 0.7198\n",
            "\n",
            "Epoch 00034: val_acc did not improve from 0.75970\n",
            "Epoch 35/40\n",
            "\n",
            "Epoch 00035: LearningRateScheduler setting learning rate to 0.00025325.\n",
            "469/469 [==============================] - 8s 17ms/step - loss: 0.0262 - acc: 0.9947 - val_loss: 3.8687 - val_acc: 0.7403\n",
            "\n",
            "Epoch 00035: val_acc did not improve from 0.75970\n",
            "Epoch 36/40\n",
            "\n",
            "Epoch 00036: LearningRateScheduler setting learning rate to 0.0002466091.\n",
            "469/469 [==============================] - 8s 17ms/step - loss: 0.0265 - acc: 0.9947 - val_loss: 3.7207 - val_acc: 0.7478\n",
            "\n",
            "Epoch 00036: val_acc did not improve from 0.75970\n",
            "Epoch 37/40\n",
            "\n",
            "Epoch 00037: LearningRateScheduler setting learning rate to 0.0002403076.\n",
            "469/469 [==============================] - 8s 17ms/step - loss: 0.0262 - acc: 0.9950 - val_loss: 4.2539 - val_acc: 0.7165\n",
            "\n",
            "Epoch 00037: val_acc did not improve from 0.75970\n",
            "Epoch 38/40\n",
            "\n",
            "Epoch 00038: LearningRateScheduler setting learning rate to 0.0002343201.\n",
            "469/469 [==============================] - 8s 17ms/step - loss: 0.0266 - acc: 0.9945 - val_loss: 3.9409 - val_acc: 0.7351\n",
            "\n",
            "Epoch 00038: val_acc did not improve from 0.75970\n",
            "Epoch 39/40\n",
            "\n",
            "Epoch 00039: LearningRateScheduler setting learning rate to 0.0002286237.\n",
            "469/469 [==============================] - 8s 17ms/step - loss: 0.0256 - acc: 0.9949 - val_loss: 5.0547 - val_acc: 0.6631\n",
            "\n",
            "Epoch 00039: val_acc did not improve from 0.75970\n",
            "Epoch 40/40\n",
            "\n",
            "Epoch 00040: LearningRateScheduler setting learning rate to 0.0002231977.\n",
            "469/469 [==============================] - 8s 17ms/step - loss: 0.0256 - acc: 0.9948 - val_loss: 4.2302 - val_acc: 0.7176\n",
            "\n",
            "Epoch 00040: val_acc did not improve from 0.75970\n"
          ],
          "name": "stdout"
        },
        {
          "output_type": "execute_result",
          "data": {
            "text/plain": [
              "<keras.callbacks.History at 0x7f62d591b860>"
            ]
          },
          "metadata": {
            "tags": []
          },
          "execution_count": 125
        }
      ]
    },
    {
      "cell_type": "code",
      "metadata": {
        "id": "3x4Nqp5l8ZXg",
        "colab_type": "code",
        "colab": {}
      },
      "source": [
        "#training and testing the model with 40 epocs\n",
        "\n",
        "from keras.optimizers import Adam, SGD\n",
        "from keras.callbacks import LearningRateScheduler\n",
        "def scheduler(epoch, lr):\n",
        "  return round(0.003 * 1/(1 + 0.319 * epoch), 10)\n",
        "\n",
        "model1.compile(loss='categorical_crossentropy', optimizer=Adam(lr=0.003), metrics=['accuracy'])\n",
        "\n",
        "model1.fit(X_train, Y_train, batch_size=128, epochs=40, verbose=1, validation_data=(X_test, Y_test), callbacks=[LearningRateScheduler(scheduler, verbose=1)])"
      ],
      "execution_count": 0,
      "outputs": []
    },
    {
      "cell_type": "code",
      "metadata": {
        "id": "OCWoJkwE9suh",
        "colab_type": "code",
        "colab": {}
      },
      "source": [
        "y_pred = model1.predict(X_test)"
      ],
      "execution_count": 0,
      "outputs": []
    },
    {
      "cell_type": "markdown",
      "metadata": {
        "id": "VkgSw7AwHAZb",
        "colab_type": "text"
      },
      "source": [
        "#### Seeing the first nine predictions"
      ]
    },
    {
      "cell_type": "code",
      "metadata": {
        "id": "Ym7iCFBm9uBs",
        "colab_type": "code",
        "outputId": "629e38bd-8a95-4dd0-a49d-263367aea9fc",
        "colab": {
          "base_uri": "https://localhost:8080/",
          "height": 340
        }
      },
      "source": [
        "print(y_pred[:9])\n",
        "print(y_test[:9])"
      ],
      "execution_count": 127,
      "outputs": [
        {
          "output_type": "stream",
          "text": [
            "[[0.0000000e+00 0.0000000e+00 0.0000000e+00 0.0000000e+00 0.0000000e+00\n",
            "  0.0000000e+00 0.0000000e+00 1.0000000e+00 0.0000000e+00 0.0000000e+00]\n",
            " [0.0000000e+00 0.0000000e+00 1.0000000e+00 0.0000000e+00 0.0000000e+00\n",
            "  0.0000000e+00 0.0000000e+00 0.0000000e+00 0.0000000e+00 0.0000000e+00]\n",
            " [6.5518503e-18 2.2196357e-13 7.4905455e-14 9.9999976e-01 0.0000000e+00\n",
            "  3.4914927e-12 1.1227038e-18 6.7975890e-31 2.4738580e-07 0.0000000e+00]\n",
            " [1.0000000e+00 0.0000000e+00 1.2498157e-22 9.3579775e-22 0.0000000e+00\n",
            "  0.0000000e+00 8.5175175e-21 0.0000000e+00 3.8872257e-24 0.0000000e+00]\n",
            " [0.0000000e+00 0.0000000e+00 0.0000000e+00 0.0000000e+00 1.0000000e+00\n",
            "  0.0000000e+00 0.0000000e+00 0.0000000e+00 0.0000000e+00 0.0000000e+00]\n",
            " [2.6560417e-23 2.2524019e-21 6.9754862e-11 1.0000000e+00 0.0000000e+00\n",
            "  1.0089814e-23 1.1124124e-19 6.2621111e-32 3.1975593e-15 0.0000000e+00]\n",
            " [0.0000000e+00 0.0000000e+00 0.0000000e+00 0.0000000e+00 1.0000000e+00\n",
            "  0.0000000e+00 0.0000000e+00 0.0000000e+00 0.0000000e+00 4.0529140e-09]\n",
            " [0.0000000e+00 0.0000000e+00 0.0000000e+00 0.0000000e+00 0.0000000e+00\n",
            "  0.0000000e+00 0.0000000e+00 0.0000000e+00 0.0000000e+00 1.0000000e+00]\n",
            " [0.0000000e+00 0.0000000e+00 0.0000000e+00 0.0000000e+00 0.0000000e+00\n",
            "  1.0000000e+00 0.0000000e+00 0.0000000e+00 0.0000000e+00 0.0000000e+00]]\n",
            "[7 2 1 0 4 1 4 9 5]\n"
          ],
          "name": "stdout"
        }
      ]
    },
    {
      "cell_type": "code",
      "metadata": {
        "id": "If7AqUMF6ujg",
        "colab_type": "code",
        "colab": {}
      },
      "source": [
        "datagen_validator = ImageDataGenerator(featurewise_center=True, featurewise_std_normalization=True,)"
      ],
      "execution_count": 0,
      "outputs": []
    },
    {
      "cell_type": "code",
      "metadata": {
        "id": "d9vVAzdS57yL",
        "colab_type": "code",
        "colab": {}
      },
      "source": [
        "#Defining how the images should look like (Copied)\n",
        "def show_misclassified(X, Y_ohe, Y_pred, classes,\n",
        "                       columns=5, total=25,\n",
        "                       pick_randomly=True, image_size_multiplier=4):\n",
        "    y_true = np.argmax(Y_ohe, axis=1)\n",
        "    yp = np.argmax(Y_pred, axis=1)\n",
        "    misclassified = y_true != yp\n",
        "    X = X[misclassified]\n",
        "    Y_ohe = Y_ohe[misclassified]\n",
        "    Y_pred = Y_pred[misclassified]\n",
        "    y_true = y_true[misclassified]\n",
        "    yp = yp[misclassified]\n",
        "    total = min(total, len(X))\n",
        "    rows = int(np.ceil(total / columns))\n",
        "\n",
        "    indexes = np.random.choice(len(X), total, replace=False) if pick_randomly else list(range(0, total))\n",
        "\n",
        "    X = np.take(X, indexes, axis=0)\n",
        "    Y_ohe = np.take(Y_ohe, indexes, axis=0)\n",
        "    Y_pred = np.take(Y_pred, indexes, axis=0)\n",
        "    y_true = np.take(y_true, indexes, axis=0)\n",
        "    yp = np.take(yp, indexes, axis=0)\n",
        "\n",
        "    fig_height = rows * image_size_multiplier * 2\n",
        "    fig_width = columns * image_size_multiplier\n",
        "\n",
        "    fig = plt.figure(figsize=(fig_width, fig_height))\n",
        "    idx1 = 0\n",
        "    idx2 = 0\n",
        "    jdx = 0\n",
        "    for row in range(rows):\n",
        "        for column in range(columns):\n",
        "            if idx1 >= len(X):\n",
        "                break\n",
        "            img = X[idx1]\n",
        "            assert (len(img.shape) == 3 and img.shape[2] in [1, 3, 4]) or len(img.shape) == 2\n",
        "            ax = fig.add_subplot(rows * 2, columns, jdx + 1, xticks=[], yticks=[])\n",
        "            cmap = None\n",
        "            if (len(img.shape) == 3 and img.shape[2] == 1) or len(img.shape) == 2:\n",
        "                cmap = \"binary\"\n",
        "            if len(img.shape) == 3 and img.shape[2] == 1:\n",
        "                img = img.reshape((img.shape[0], img.shape[1]))\n",
        "            ax.imshow(img, cmap=cmap)\n",
        "            ax.set_title(\"Predicted = %s, Actual = %s\" % (classes[yp[idx1]], classes[y_true[idx1]]))\n",
        "            idx1 += 1\n",
        "            jdx += 1\n",
        "\n",
        "        for column in range(columns):\n",
        "            if idx2 >= len(Y_pred):\n",
        "                break\n",
        "            yps = Y_pred[idx2]\n",
        "            ax = fig.add_subplot(rows * 2, columns, jdx + 1, xticks=[], yticks=[])\n",
        "            ind = np.arange(len(classes))\n",
        "            rects = ax.bar(ind, yps, 0.25, label='Labels')\n",
        "            ax.set_ylabel('Probability')\n",
        "            ax.set_yticks(np.arange(0, 1.2, 0.2))\n",
        "            ax.set_title('Probability vs Labels')\n",
        "            ax.set_xticks(ind)\n",
        "            ax.set_xticklabels(classes)\n",
        "            ax.legend()\n",
        "            idx2 += 1\n",
        "            jdx += 1\n",
        "    plt.show()\n"
      ],
      "execution_count": 0,
      "outputs": []
    },
    {
      "cell_type": "code",
      "metadata": {
        "id": "QKjHwBVY6c6g",
        "colab_type": "code",
        "colab": {
          "base_uri": "https://localhost:8080/",
          "height": 2238
        },
        "outputId": "6e75eab9-0e92-4c27-da19-f71209179017"
      },
      "source": [
        "#plotting images aswell as its labels and a probalility graph from the model output\n",
        "show_misclassified(X_test, Y_test, y_pred[:len(Y_test)], classes=list(range(0,10)), \n",
        "                       columns=5, total=25, \n",
        "                       pick_randomly=True, image_size_multiplier=4)"
      ],
      "execution_count": 130,
      "outputs": [
        {
          "output_type": "display_data",
          "data": {
            "image/png": "[encoded data removed]",
            "text/plain": [
              "<Figure size 1440x2880 with 50 Axes>"
            ]
          },
          "metadata": {
            "tags": []
          }
        }
      ]
    },
    {
      "cell_type": "code",
      "metadata": {
        "id": "9tvptcn8dxvp",
        "colab_type": "code",
        "outputId": "1fa950a0-da87-4d26-bc70-13eb4c4be330",
        "colab": {
          "base_uri": "https://localhost:8080/",
          "height": 316
        }
      },
      "source": [
        "import numpy as np\n",
        "from matplotlib import pyplot as plt\n",
        "from keras import backend as K\n",
        "%matplotlib inline\n",
        "# util function to convert a tensor into a valid image\n",
        "def deprocess_image(x):\n",
        "    # normalize tensor: center on 0., ensure std is 0.1\n",
        "    x -= x.mean()\n",
        "    x /= (x.std() + 1e-5)\n",
        "    x *= 0.1\n",
        "\n",
        "    # clip to [0, 1]\n",
        "    x += 0.5\n",
        "    x = np.clip(x, 0, 1)\n",
        "\n",
        "    # convert to RGB array\n",
        "    x *= 255\n",
        "    #x = x.transpose((1, 2, 0))\n",
        "    x = np.clip(x, 0, 255).astype('uint8')\n",
        "    return x\n",
        "\n",
        "def vis_img_in_filter(img = np.array(X_train[2]).reshape((1, 28, 28, 1)).astype(np.float64), \n",
        "                      layer_name = 'conv2d_125'):\n",
        "    layer_output = layer_dict[layer_name].output\n",
        "    img_ascs = list()\n",
        "    for filter_index in range(layer_output.shape[3]):\n",
        "        # build a loss function that maximizes the activation\n",
        "        # of the nth filter of the layer considered\n",
        "        loss = K.mean(layer_output[:, :, :, filter_index])\n",
        "\n",
        "        # compute the gradient of the input picture wrt this loss\n",
        "        grads = K.gradients(loss, model1.input)[0]\n",
        "\n",
        "        # normalization trick: we normalize the gradient\n",
        "        grads /= (K.sqrt(K.mean(K.square(grads))) + 1e-5)\n",
        "\n",
        "        # this function returns the loss and grads given the input picture\n",
        "        iterate = K.function([model1.input], [loss, grads])\n",
        "\n",
        "        # step size for gradient ascent\n",
        "        step = 5.\n",
        "\n",
        "        img_asc = np.array(img)\n",
        "        # run gradient ascent for 20 steps\n",
        "        for i in range(20):\n",
        "            loss_value, grads_value = iterate([img_asc])\n",
        "            img_asc += grads_value * step\n",
        "\n",
        "        img_asc = img_asc[0]\n",
        "        img_ascs.append(deprocess_image(img_asc).reshape((28, 28)))\n",
        "        \n",
        "    if layer_output.shape[3] >= 35:\n",
        "        plot_x, plot_y = 6, 6\n",
        "    elif layer_output.shape[3] >= 23:\n",
        "        plot_x, plot_y = 4, 6\n",
        "    elif layer_output.shape[3] >= 11:\n",
        "        plot_x, plot_y = 2, 6\n",
        "    else:\n",
        "        plot_x, plot_y = 1, 2\n",
        "    fig, ax = plt.subplots(plot_x, plot_y, figsize = (12, 12))\n",
        "    ax[0, 0].imshow(img.reshape((28, 28)), cmap = 'gray')\n",
        "    ax[0, 0].set_title('Input image')\n",
        "    fig.suptitle('Input image and %s filters' % (layer_name,))\n",
        "    fig.tight_layout(pad = 0.3, rect = [0, 0, 0.9, 0.9])\n",
        "    for (x, y) in [(i, j) for i in range(plot_x) for j in range(plot_y)]:\n",
        "        if x == 0 and y == 0:\n",
        "            continue\n",
        "        ax[x, y].imshow(img_ascs[x * plot_y + y - 1], cmap = 'gray')\n",
        "        ax[x, y].set_title('filter %d' % (x * plot_y + y - 1))\n",
        "\n",
        "vis_img_in_filter()"
      ],
      "execution_count": 131,
      "outputs": [
        {
          "output_type": "error",
          "ename": "NameError",
          "evalue": "ignored",
          "traceback": [
            "\u001b[0;31m---------------------------------------------------------------------------\u001b[0m",
            "\u001b[0;31mNameError\u001b[0m                                 Traceback (most recent call last)",
            "\u001b[0;32m<ipython-input-131-02827c0b895b>\u001b[0m in \u001b[0;36m<module>\u001b[0;34m()\u001b[0m\n\u001b[1;32m     69\u001b[0m         \u001b[0max\u001b[0m\u001b[0;34m[\u001b[0m\u001b[0mx\u001b[0m\u001b[0;34m,\u001b[0m \u001b[0my\u001b[0m\u001b[0;34m]\u001b[0m\u001b[0;34m.\u001b[0m\u001b[0mset_title\u001b[0m\u001b[0;34m(\u001b[0m\u001b[0;34m'filter %d'\u001b[0m \u001b[0;34m%\u001b[0m \u001b[0;34m(\u001b[0m\u001b[0mx\u001b[0m \u001b[0;34m*\u001b[0m \u001b[0mplot_y\u001b[0m \u001b[0;34m+\u001b[0m \u001b[0my\u001b[0m \u001b[0;34m-\u001b[0m \u001b[0;36m1\u001b[0m\u001b[0;34m)\u001b[0m\u001b[0;34m)\u001b[0m\u001b[0;34m\u001b[0m\u001b[0;34m\u001b[0m\u001b[0m\n\u001b[1;32m     70\u001b[0m \u001b[0;34m\u001b[0m\u001b[0m\n\u001b[0;32m---> 71\u001b[0;31m \u001b[0mvis_img_in_filter\u001b[0m\u001b[0;34m(\u001b[0m\u001b[0;34m)\u001b[0m\u001b[0;34m\u001b[0m\u001b[0;34m\u001b[0m\u001b[0m\n\u001b[0m",
            "\u001b[0;32m<ipython-input-131-02827c0b895b>\u001b[0m in \u001b[0;36mvis_img_in_filter\u001b[0;34m(img, layer_name)\u001b[0m\n\u001b[1;32m     22\u001b[0m def vis_img_in_filter(img = np.array(X_train[2]).reshape((1, 28, 28, 1)).astype(np.float64), \n\u001b[1;32m     23\u001b[0m                       layer_name = 'conv2d_125'):\n\u001b[0;32m---> 24\u001b[0;31m     \u001b[0mlayer_output\u001b[0m \u001b[0;34m=\u001b[0m \u001b[0mlayer_dict\u001b[0m\u001b[0;34m[\u001b[0m\u001b[0mlayer_name\u001b[0m\u001b[0;34m]\u001b[0m\u001b[0;34m.\u001b[0m\u001b[0moutput\u001b[0m\u001b[0;34m\u001b[0m\u001b[0;34m\u001b[0m\u001b[0m\n\u001b[0m\u001b[1;32m     25\u001b[0m     \u001b[0mimg_ascs\u001b[0m \u001b[0;34m=\u001b[0m \u001b[0mlist\u001b[0m\u001b[0;34m(\u001b[0m\u001b[0;34m)\u001b[0m\u001b[0;34m\u001b[0m\u001b[0;34m\u001b[0m\u001b[0m\n\u001b[1;32m     26\u001b[0m     \u001b[0;32mfor\u001b[0m \u001b[0mfilter_index\u001b[0m \u001b[0;32min\u001b[0m \u001b[0mrange\u001b[0m\u001b[0;34m(\u001b[0m\u001b[0mlayer_output\u001b[0m\u001b[0;34m.\u001b[0m\u001b[0mshape\u001b[0m\u001b[0;34m[\u001b[0m\u001b[0;36m3\u001b[0m\u001b[0;34m]\u001b[0m\u001b[0;34m)\u001b[0m\u001b[0;34m:\u001b[0m\u001b[0;34m\u001b[0m\u001b[0;34m\u001b[0m\u001b[0m\n",
            "\u001b[0;31mNameError\u001b[0m: name 'layer_dict' is not defined"
          ]
        }
      ]
    },
    {
      "cell_type": "code",
      "metadata": {
        "id": "VriFbAfNJxB4",
        "colab_type": "code",
        "colab": {}
      },
      "source": [
        ""
      ],
      "execution_count": 0,
      "outputs": []
    }
  ]
}